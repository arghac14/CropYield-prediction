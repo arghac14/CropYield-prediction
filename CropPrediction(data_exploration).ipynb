{
  "nbformat": 4,
  "nbformat_minor": 0,
  "metadata": {
    "colab": {
      "name": "CropPrediction(data_exploration).ipynb",
      "version": "0.3.2",
      "provenance": [],
      "collapsed_sections": [],
      "include_colab_link": true
    },
    "kernelspec": {
      "name": "python3",
      "display_name": "Python 3"
    }
  },
  "cells": [
    {
      "cell_type": "markdown",
      "metadata": {
        "id": "view-in-github",
        "colab_type": "text"
      },
      "source": [
        "<a href=\"https://colab.research.google.com/github/disha2sinha/CropYield-prediction/blob/master/CropPrediction(data_exploration).ipynb\" target=\"_parent\"><img src=\"https://colab.research.google.com/assets/colab-badge.svg\" alt=\"Open In Colab\"/></a>"
      ]
    },
    {
      "cell_type": "code",
      "metadata": {
        "id": "HktbvYERJFjr",
        "colab_type": "code",
        "colab": {}
      },
      "source": [
        "import pandas as pd\n",
        "import numpy as np\n",
        "import matplotlib.pyplot as plt\n",
        "%matplotlib inline"
      ],
      "execution_count": 0,
      "outputs": []
    },
    {
      "cell_type": "markdown",
      "metadata": {
        "id": "NqbyvO-a05Bk",
        "colab_type": "text"
      },
      "source": [
        "### Creating Dataset"
      ]
    },
    {
      "cell_type": "code",
      "metadata": {
        "id": "OCPeVLHuJLg8",
        "colab_type": "code",
        "outputId": "297e8c5a-c12f-4846-881f-46ec6dce735a",
        "colab": {
          "base_uri": "https://localhost:8080/",
          "height": 645
        }
      },
      "source": [
        "data={\n",
        "    'Dist':['Bidar','Bangalore','Belgaum','Bellary','Bengalore Rural','Kolar','Dharwad','Koppal','Chikmagalur','Chitradurga','Haveri','Chamrajanagar','Mandya','Mysore','Raichur','Kodaku','Hassan','Devanagare','Gulbarga'],\n",
        "    'Precipitation':[622.438,748.194,1334.194, 574.325,733.003,724.545,1623.548,724.545,1923.742,674.17,1473.343,1334.754,1477.249,2242.378,450.113,1691.933,2200.349,1060.343, 525.402],\n",
        "    'Min_Temp':[27.643,25.263,21.254,26.407,25.228,25.464,26.148,47.029,26.459,25.214,25.817,25.089,24.567,25.76766667,27.42241667,25.426,25.348,25.509,27.851],\n",
        "    'Cloud_Cover':[35.241,49.134,39.728,38.466,47.62,47.029,38.267,41.039,44.842,41.364,41.292,50.77,49.54775,50.57941667,35.76258333,46.353,47.12,40.929,35.109],\n",
        "    'Vapour_pressure':[17.953,21.56, 22.5509,20.008,21.241,20.63,23.652,19.992,24.717,20.82,23.168,23.079,22.234,24.64266667,18.93741667,23.975,24.008,22.042,18.662],\n",
        "    'Area':[4709,18790,4398,3768,140213,2278,8395,3084,1650,3026,10659,3485,11349,3462,4586,17856,10487,2459,10487],\n",
        "    'Production':[9043,20981,6054,5903,534214,2759,10986,3952,2958,3325,9865, 4120,18957, 4539,6145,15362,7586,1865,7895]\n",
        "}\n",
        "df=pd.DataFrame(data)\n",
        "df"
      ],
      "execution_count": 0,
      "outputs": [
        {
          "output_type": "execute_result",
          "data": {
            "text/html": [
              "<div>\n",
              "<style scoped>\n",
              "    .dataframe tbody tr th:only-of-type {\n",
              "        vertical-align: middle;\n",
              "    }\n",
              "\n",
              "    .dataframe tbody tr th {\n",
              "        vertical-align: top;\n",
              "    }\n",
              "\n",
              "    .dataframe thead th {\n",
              "        text-align: right;\n",
              "    }\n",
              "</style>\n",
              "<table border=\"1\" class=\"dataframe\">\n",
              "  <thead>\n",
              "    <tr style=\"text-align: right;\">\n",
              "      <th></th>\n",
              "      <th>Dist</th>\n",
              "      <th>Precipitation</th>\n",
              "      <th>Min_Temp</th>\n",
              "      <th>Cloud_Cover</th>\n",
              "      <th>Vapour_pressure</th>\n",
              "      <th>Area</th>\n",
              "      <th>Production</th>\n",
              "    </tr>\n",
              "  </thead>\n",
              "  <tbody>\n",
              "    <tr>\n",
              "      <th>0</th>\n",
              "      <td>Bidar</td>\n",
              "      <td>622.438</td>\n",
              "      <td>27.643000</td>\n",
              "      <td>35.241000</td>\n",
              "      <td>17.953000</td>\n",
              "      <td>4709</td>\n",
              "      <td>9043</td>\n",
              "    </tr>\n",
              "    <tr>\n",
              "      <th>1</th>\n",
              "      <td>Bangalore</td>\n",
              "      <td>748.194</td>\n",
              "      <td>25.263000</td>\n",
              "      <td>49.134000</td>\n",
              "      <td>21.560000</td>\n",
              "      <td>18790</td>\n",
              "      <td>20981</td>\n",
              "    </tr>\n",
              "    <tr>\n",
              "      <th>2</th>\n",
              "      <td>Belgaum</td>\n",
              "      <td>1334.194</td>\n",
              "      <td>21.254000</td>\n",
              "      <td>39.728000</td>\n",
              "      <td>22.550900</td>\n",
              "      <td>4398</td>\n",
              "      <td>6054</td>\n",
              "    </tr>\n",
              "    <tr>\n",
              "      <th>3</th>\n",
              "      <td>Bellary</td>\n",
              "      <td>574.325</td>\n",
              "      <td>26.407000</td>\n",
              "      <td>38.466000</td>\n",
              "      <td>20.008000</td>\n",
              "      <td>3768</td>\n",
              "      <td>5903</td>\n",
              "    </tr>\n",
              "    <tr>\n",
              "      <th>4</th>\n",
              "      <td>Bengalore Rural</td>\n",
              "      <td>733.003</td>\n",
              "      <td>25.228000</td>\n",
              "      <td>47.620000</td>\n",
              "      <td>21.241000</td>\n",
              "      <td>140213</td>\n",
              "      <td>534214</td>\n",
              "    </tr>\n",
              "    <tr>\n",
              "      <th>5</th>\n",
              "      <td>Kolar</td>\n",
              "      <td>724.545</td>\n",
              "      <td>25.464000</td>\n",
              "      <td>47.029000</td>\n",
              "      <td>20.630000</td>\n",
              "      <td>2278</td>\n",
              "      <td>2759</td>\n",
              "    </tr>\n",
              "    <tr>\n",
              "      <th>6</th>\n",
              "      <td>Dharwad</td>\n",
              "      <td>1623.548</td>\n",
              "      <td>26.148000</td>\n",
              "      <td>38.267000</td>\n",
              "      <td>23.652000</td>\n",
              "      <td>8395</td>\n",
              "      <td>10986</td>\n",
              "    </tr>\n",
              "    <tr>\n",
              "      <th>7</th>\n",
              "      <td>Koppal</td>\n",
              "      <td>724.545</td>\n",
              "      <td>47.029000</td>\n",
              "      <td>41.039000</td>\n",
              "      <td>19.992000</td>\n",
              "      <td>3084</td>\n",
              "      <td>3952</td>\n",
              "    </tr>\n",
              "    <tr>\n",
              "      <th>8</th>\n",
              "      <td>Chikmagalur</td>\n",
              "      <td>1923.742</td>\n",
              "      <td>26.459000</td>\n",
              "      <td>44.842000</td>\n",
              "      <td>24.717000</td>\n",
              "      <td>1650</td>\n",
              "      <td>2958</td>\n",
              "    </tr>\n",
              "    <tr>\n",
              "      <th>9</th>\n",
              "      <td>Chitradurga</td>\n",
              "      <td>674.170</td>\n",
              "      <td>25.214000</td>\n",
              "      <td>41.364000</td>\n",
              "      <td>20.820000</td>\n",
              "      <td>3026</td>\n",
              "      <td>3325</td>\n",
              "    </tr>\n",
              "    <tr>\n",
              "      <th>10</th>\n",
              "      <td>Haveri</td>\n",
              "      <td>1473.343</td>\n",
              "      <td>25.817000</td>\n",
              "      <td>41.292000</td>\n",
              "      <td>23.168000</td>\n",
              "      <td>10659</td>\n",
              "      <td>9865</td>\n",
              "    </tr>\n",
              "    <tr>\n",
              "      <th>11</th>\n",
              "      <td>Chamrajanagar</td>\n",
              "      <td>1334.754</td>\n",
              "      <td>25.089000</td>\n",
              "      <td>50.770000</td>\n",
              "      <td>23.079000</td>\n",
              "      <td>3485</td>\n",
              "      <td>4120</td>\n",
              "    </tr>\n",
              "    <tr>\n",
              "      <th>12</th>\n",
              "      <td>Mandya</td>\n",
              "      <td>1477.249</td>\n",
              "      <td>24.567000</td>\n",
              "      <td>49.547750</td>\n",
              "      <td>22.234000</td>\n",
              "      <td>11349</td>\n",
              "      <td>18957</td>\n",
              "    </tr>\n",
              "    <tr>\n",
              "      <th>13</th>\n",
              "      <td>Mysore</td>\n",
              "      <td>2242.378</td>\n",
              "      <td>25.767667</td>\n",
              "      <td>50.579417</td>\n",
              "      <td>24.642667</td>\n",
              "      <td>3462</td>\n",
              "      <td>4539</td>\n",
              "    </tr>\n",
              "    <tr>\n",
              "      <th>14</th>\n",
              "      <td>Raichur</td>\n",
              "      <td>450.113</td>\n",
              "      <td>27.422417</td>\n",
              "      <td>35.762583</td>\n",
              "      <td>18.937417</td>\n",
              "      <td>4586</td>\n",
              "      <td>6145</td>\n",
              "    </tr>\n",
              "    <tr>\n",
              "      <th>15</th>\n",
              "      <td>Kodaku</td>\n",
              "      <td>1691.933</td>\n",
              "      <td>25.426000</td>\n",
              "      <td>46.353000</td>\n",
              "      <td>23.975000</td>\n",
              "      <td>17856</td>\n",
              "      <td>15362</td>\n",
              "    </tr>\n",
              "    <tr>\n",
              "      <th>16</th>\n",
              "      <td>Hassan</td>\n",
              "      <td>2200.349</td>\n",
              "      <td>25.348000</td>\n",
              "      <td>47.120000</td>\n",
              "      <td>24.008000</td>\n",
              "      <td>10487</td>\n",
              "      <td>7586</td>\n",
              "    </tr>\n",
              "    <tr>\n",
              "      <th>17</th>\n",
              "      <td>Devanagare</td>\n",
              "      <td>1060.343</td>\n",
              "      <td>25.509000</td>\n",
              "      <td>40.929000</td>\n",
              "      <td>22.042000</td>\n",
              "      <td>2459</td>\n",
              "      <td>1865</td>\n",
              "    </tr>\n",
              "    <tr>\n",
              "      <th>18</th>\n",
              "      <td>Gulbarga</td>\n",
              "      <td>525.402</td>\n",
              "      <td>27.851000</td>\n",
              "      <td>35.109000</td>\n",
              "      <td>18.662000</td>\n",
              "      <td>10487</td>\n",
              "      <td>7895</td>\n",
              "    </tr>\n",
              "  </tbody>\n",
              "</table>\n",
              "</div>"
            ],
            "text/plain": [
              "               Dist  Precipitation  ...    Area  Production\n",
              "0             Bidar        622.438  ...    4709        9043\n",
              "1         Bangalore        748.194  ...   18790       20981\n",
              "2           Belgaum       1334.194  ...    4398        6054\n",
              "3           Bellary        574.325  ...    3768        5903\n",
              "4   Bengalore Rural        733.003  ...  140213      534214\n",
              "5             Kolar        724.545  ...    2278        2759\n",
              "6           Dharwad       1623.548  ...    8395       10986\n",
              "7            Koppal        724.545  ...    3084        3952\n",
              "8       Chikmagalur       1923.742  ...    1650        2958\n",
              "9       Chitradurga        674.170  ...    3026        3325\n",
              "10           Haveri       1473.343  ...   10659        9865\n",
              "11    Chamrajanagar       1334.754  ...    3485        4120\n",
              "12           Mandya       1477.249  ...   11349       18957\n",
              "13           Mysore       2242.378  ...    3462        4539\n",
              "14          Raichur        450.113  ...    4586        6145\n",
              "15           Kodaku       1691.933  ...   17856       15362\n",
              "16           Hassan       2200.349  ...   10487        7586\n",
              "17       Devanagare       1060.343  ...    2459        1865\n",
              "18         Gulbarga        525.402  ...   10487        7895\n",
              "\n",
              "[19 rows x 7 columns]"
            ]
          },
          "metadata": {
            "tags": []
          },
          "execution_count": 10
        }
      ]
    },
    {
      "cell_type": "markdown",
      "metadata": {
        "id": "XjC56lWQ0-01",
        "colab_type": "text"
      },
      "source": [
        "### Showing correlation between dependent and independent variables"
      ]
    },
    {
      "cell_type": "code",
      "metadata": {
        "id": "f_iRYyJj1UdF",
        "colab_type": "code",
        "outputId": "177345e9-86d5-40b0-ab41-d7bc7454e7c8",
        "colab": {
          "base_uri": "https://localhost:8080/",
          "height": 295
        }
      },
      "source": [
        "plt.scatter(df['Precipitation'],df['Production'],color='red')\n",
        "plt.title(\"Precipitation Vs Production\")\n",
        "plt.xlabel(\"Precipitation\")\n",
        "plt.ylabel(\"Production\")\n",
        "plt.grid()\n",
        "plt.show()"
      ],
      "execution_count": 0,
      "outputs": [
        {
          "output_type": "display_data",
          "data": {
            "image/png": "[encoded data removed]",
            "text/plain": [
              "<Figure size 432x288 with 1 Axes>"
            ]
          },
          "metadata": {
            "tags": []
          }
        }
      ]
    },
    {
      "cell_type": "code",
      "metadata": {
        "id": "Vm1j6iN73RzI",
        "colab_type": "code",
        "outputId": "6ba3b379-767f-425b-e002-a8f915bc8317",
        "colab": {
          "base_uri": "https://localhost:8080/",
          "height": 295
        }
      },
      "source": [
        "plt.scatter(df['Min_Temp'],df['Production'],color='green')\n",
        "plt.title(\"Minimum Temperature Vs Production\")\n",
        "plt.xlabel(\"Minimum Temperature\")\n",
        "plt.ylabel(\"Production\")\n",
        "plt.grid()\n",
        "plt.show()"
      ],
      "execution_count": 0,
      "outputs": [
        {
          "output_type": "display_data",
          "data": {
            "image/png": "[encoded data removed]",
            "text/plain": [
              "<Figure size 432x288 with 1 Axes>"
            ]
          },
          "metadata": {
            "tags": []
          }
        }
      ]
    },
    {
      "cell_type": "code",
      "metadata": {
        "id": "Z2hKG1o_3ShJ",
        "colab_type": "code",
        "outputId": "71229618-1cb2-4d4a-db31-a8b1dea494dd",
        "colab": {
          "base_uri": "https://localhost:8080/",
          "height": 295
        }
      },
      "source": [
        "plt.scatter(df['Cloud_Cover'],df['Production'],color=\"purple\")\n",
        "plt.title(\"Cloud cover Vs Production\")\n",
        "plt.xlabel(\"Cloud Cover\")\n",
        "plt.ylabel(\"Production\")\n",
        "plt.grid()\n",
        "plt.show()"
      ],
      "execution_count": 0,
      "outputs": [
        {
          "output_type": "display_data",
          "data": {
            "image/png": "[encoded data removed]",
            "text/plain": [
              "<Figure size 432x288 with 1 Axes>"
            ]
          },
          "metadata": {
            "tags": []
          }
        }
      ]
    },
    {
      "cell_type": "code",
      "metadata": {
        "id": "12x1MZLD3S_e",
        "colab_type": "code",
        "outputId": "f483ef2b-7303-4678-f163-2ca11cc5768e",
        "colab": {
          "base_uri": "https://localhost:8080/",
          "height": 295
        }
      },
      "source": [
        "plt.scatter(df['Vapour_pressure'],df['Production'],color='blue')\n",
        "plt.title(\"Vapour pressure  Vs Production\")\n",
        "plt.xlabel(\"Vapour Pressure\")\n",
        "plt.ylabel(\"Production\")\n",
        "plt.grid()\n",
        "plt.show()"
      ],
      "execution_count": 0,
      "outputs": [
        {
          "output_type": "display_data",
          "data": {
            "image/png": "[encoded data removed]",
            "text/plain": [
              "<Figure size 432x288 with 1 Axes>"
            ]
          },
          "metadata": {
            "tags": []
          }
        }
      ]
    },
    {
      "cell_type": "code",
      "metadata": {
        "id": "_2S0_JPZ3TcE",
        "colab_type": "code",
        "outputId": "74c947b3-0297-4425-c34f-c8b5dd0c9a84",
        "colab": {
          "base_uri": "https://localhost:8080/",
          "height": 295
        }
      },
      "source": [
        "plt.scatter(df['Area'],df['Production'],color='orange')\n",
        "plt.title(\"Area Vs Production\")\n",
        "plt.xlabel(\"Area\")\n",
        "plt.ylabel(\"Production\")\n",
        "plt.grid()\n",
        "plt.show()"
      ],
      "execution_count": 0,
      "outputs": [
        {
          "output_type": "display_data",
          "data": {
            "image/png": "[encoded data removed]",
            "text/plain": [
              "<Figure size 432x288 with 1 Axes>"
            ]
          },
          "metadata": {
            "tags": []
          }
        }
      ]
    }
  ]
}
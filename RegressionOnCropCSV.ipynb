{
  "nbformat": 4,
  "nbformat_minor": 0,
  "metadata": {
    "colab": {
      "name": "RegressionOnCropCSV.ipynb",
      "version": "0.3.2",
      "provenance": [],
      "collapsed_sections": [],
      "include_colab_link": true
    },
    "kernelspec": {
      "name": "python3",
      "display_name": "Python 3"
    }
  },
  "cells": [
    {
      "cell_type": "markdown",
      "metadata": {
        "id": "view-in-github",
        "colab_type": "text"
      },
      "source": [
        "<a href=\"https://colab.research.google.com/github/disha2sinha/CropYield-prediction/blob/master/RegressionOnCropCSV.ipynb\" target=\"_parent\"><img src=\"https://colab.research.google.com/assets/colab-badge.svg\" alt=\"Open In Colab\"/></a>"
      ]
    },
    {
      "metadata": {
        "id": "D7goVoKY6y2L",
        "colab_type": "text"
      },
      "cell_type": "markdown",
      "source": [
        "**IMPORTING CROP CSV **"
      ]
    },
    {
      "metadata": {
        "id": "qfgEpHp6brQB",
        "colab_type": "code",
        "outputId": "e83b9fe0-8395-45cb-b2e9-f4b46305076d",
        "colab": {
          "resources": {
            "http://localhost:8080/nbextensions/google.colab/files.js": {
              "data": "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",
              "ok": true,
              "headers": [
                [
                  "content-type",
                  "application/javascript"
                ]
              ],
              "status": 200,
              "status_text": "OK"
            }
          },
          "base_uri": "https://localhost:8080/",
          "height": 74
        }
      },
      "cell_type": "code",
      "source": [
        "from google.colab import files\n",
        "uploaded=files.upload()"
      ],
      "execution_count": 7,
      "outputs": [
        {
          "output_type": "display_data",
          "data": {
            "text/html": [
              "\n",
              "     <input type=\"file\" id=\"files-e3f4ffdd-113b-4bb2-bed1-92db51821c9c\" name=\"files[]\" multiple disabled />\n",
              "     <output id=\"result-e3f4ffdd-113b-4bb2-bed1-92db51821c9c\">\n",
              "      Upload widget is only available when the cell has been executed in the\n",
              "      current browser session. Please rerun this cell to enable.\n",
              "      </output>\n",
              "      <script src=\"/nbextensions/google.colab/files.js\"></script> "
            ],
            "text/plain": [
              "<IPython.core.display.HTML object>"
            ]
          },
          "metadata": {
            "tags": []
          }
        },
        {
          "output_type": "stream",
          "text": [
            "Saving crop.csv to crop.csv\n"
          ],
          "name": "stdout"
        }
      ]
    },
    {
      "metadata": {
        "id": "Qix0zcYyb9xp",
        "colab_type": "code",
        "outputId": "5e91d737-0a70-4bae-c954-289140105443",
        "colab": {
          "base_uri": "https://localhost:8080/",
          "height": 896
        }
      },
      "cell_type": "code",
      "source": [
        "import io\n",
        "import pandas as pd\n",
        "df=pd.read_csv(io.BytesIO(uploaded['crop.csv']))\n",
        "df"
      ],
      "execution_count": 8,
      "outputs": [
        {
          "output_type": "execute_result",
          "data": {
            "text/html": [
              "<div>\n",
              "<style scoped>\n",
              "    .dataframe tbody tr th:only-of-type {\n",
              "        vertical-align: middle;\n",
              "    }\n",
              "\n",
              "    .dataframe tbody tr th {\n",
              "        vertical-align: top;\n",
              "    }\n",
              "\n",
              "    .dataframe thead th {\n",
              "        text-align: right;\n",
              "    }\n",
              "</style>\n",
              "<table border=\"1\" class=\"dataframe\">\n",
              "  <thead>\n",
              "    <tr style=\"text-align: right;\">\n",
              "      <th></th>\n",
              "      <th>Unnamed: 0</th>\n",
              "      <th>Dist</th>\n",
              "      <th>Mean_rain</th>\n",
              "      <th>Std_dev</th>\n",
              "      <th>Var</th>\n",
              "      <th>Prec_trend</th>\n",
              "      <th>Temp_max</th>\n",
              "      <th>Temp_min</th>\n",
              "      <th>Yield/area</th>\n",
              "    </tr>\n",
              "  </thead>\n",
              "  <tbody>\n",
              "    <tr>\n",
              "      <th>0</th>\n",
              "      <td>0</td>\n",
              "      <td>Begalkat</td>\n",
              "      <td>3.11</td>\n",
              "      <td>1.31</td>\n",
              "      <td>42</td>\n",
              "      <td>1.30</td>\n",
              "      <td>0.536</td>\n",
              "      <td>0.537</td>\n",
              "      <td>3344.000000</td>\n",
              "    </tr>\n",
              "    <tr>\n",
              "      <th>1</th>\n",
              "      <td>1</td>\n",
              "      <td>Bangalore Rural</td>\n",
              "      <td>3.90</td>\n",
              "      <td>3.01</td>\n",
              "      <td>77</td>\n",
              "      <td>7.83</td>\n",
              "      <td>0.400</td>\n",
              "      <td>0.396</td>\n",
              "      <td>3433.000000</td>\n",
              "    </tr>\n",
              "    <tr>\n",
              "      <th>2</th>\n",
              "      <td>2</td>\n",
              "      <td>Bangalore Urban</td>\n",
              "      <td>4.09</td>\n",
              "      <td>3.02</td>\n",
              "      <td>74</td>\n",
              "      <td>7.89</td>\n",
              "      <td>0.323</td>\n",
              "      <td>0.320</td>\n",
              "      <td>2646.000000</td>\n",
              "    </tr>\n",
              "    <tr>\n",
              "      <th>3</th>\n",
              "      <td>3</td>\n",
              "      <td>Belgaum</td>\n",
              "      <td>6.37</td>\n",
              "      <td>2.32</td>\n",
              "      <td>36</td>\n",
              "      <td>7.76</td>\n",
              "      <td>0.444</td>\n",
              "      <td>0.332</td>\n",
              "      <td>2154.000000</td>\n",
              "    </tr>\n",
              "    <tr>\n",
              "      <th>4</th>\n",
              "      <td>4</td>\n",
              "      <td>Bellary</td>\n",
              "      <td>3.41</td>\n",
              "      <td>2.76</td>\n",
              "      <td>81</td>\n",
              "      <td>5.44</td>\n",
              "      <td>0.471</td>\n",
              "      <td>0.575</td>\n",
              "      <td>2400.000000</td>\n",
              "    </tr>\n",
              "    <tr>\n",
              "      <th>5</th>\n",
              "      <td>5</td>\n",
              "      <td>Bidar</td>\n",
              "      <td>5.29</td>\n",
              "      <td>1.48</td>\n",
              "      <td>28</td>\n",
              "      <td>-0.54</td>\n",
              "      <td>0.610</td>\n",
              "      <td>0.572</td>\n",
              "      <td>1570.000000</td>\n",
              "    </tr>\n",
              "    <tr>\n",
              "      <th>6</th>\n",
              "      <td>6</td>\n",
              "      <td>Bijapur</td>\n",
              "      <td>3.25</td>\n",
              "      <td>1.10</td>\n",
              "      <td>24</td>\n",
              "      <td>-0.96</td>\n",
              "      <td>0.632</td>\n",
              "      <td>0.611</td>\n",
              "      <td>2408.000000</td>\n",
              "    </tr>\n",
              "    <tr>\n",
              "      <th>7</th>\n",
              "      <td>7</td>\n",
              "      <td>Chamaraj Nagar</td>\n",
              "      <td>4.27</td>\n",
              "      <td>2.84</td>\n",
              "      <td>66</td>\n",
              "      <td>5.01</td>\n",
              "      <td>0.265</td>\n",
              "      <td>0.365</td>\n",
              "      <td>2828.000000</td>\n",
              "    </tr>\n",
              "    <tr>\n",
              "      <th>8</th>\n",
              "      <td>8</td>\n",
              "      <td>Chikmagalur</td>\n",
              "      <td>12.96</td>\n",
              "      <td>2.92</td>\n",
              "      <td>23</td>\n",
              "      <td>-2.85</td>\n",
              "      <td>0.253</td>\n",
              "      <td>0.257</td>\n",
              "      <td>1876.000000</td>\n",
              "    </tr>\n",
              "    <tr>\n",
              "      <th>9</th>\n",
              "      <td>9</td>\n",
              "      <td>Chitradurga</td>\n",
              "      <td>3.21</td>\n",
              "      <td>2.94</td>\n",
              "      <td>91</td>\n",
              "      <td>8.73</td>\n",
              "      <td>0.334</td>\n",
              "      <td>0.335</td>\n",
              "      <td>1705.000000</td>\n",
              "    </tr>\n",
              "    <tr>\n",
              "      <th>10</th>\n",
              "      <td>10</td>\n",
              "      <td>Dakshin Kannada</td>\n",
              "      <td>26.75</td>\n",
              "      <td>5.18</td>\n",
              "      <td>19</td>\n",
              "      <td>-17.69</td>\n",
              "      <td>0.141</td>\n",
              "      <td>0.148</td>\n",
              "      <td>2163.148148</td>\n",
              "    </tr>\n",
              "    <tr>\n",
              "      <th>11</th>\n",
              "      <td>11</td>\n",
              "      <td>Davangede</td>\n",
              "      <td>4.52</td>\n",
              "      <td>3.02</td>\n",
              "      <td>67</td>\n",
              "      <td>8.52</td>\n",
              "      <td>0.364</td>\n",
              "      <td>0.366</td>\n",
              "      <td>1609.000000</td>\n",
              "    </tr>\n",
              "    <tr>\n",
              "      <th>12</th>\n",
              "      <td>12</td>\n",
              "      <td>Dharwad</td>\n",
              "      <td>5.67</td>\n",
              "      <td>3.51</td>\n",
              "      <td>62</td>\n",
              "      <td>6.12</td>\n",
              "      <td>0.415</td>\n",
              "      <td>0.324</td>\n",
              "      <td>2091.000000</td>\n",
              "    </tr>\n",
              "    <tr>\n",
              "      <th>13</th>\n",
              "      <td>13</td>\n",
              "      <td>Gadag</td>\n",
              "      <td>3.38</td>\n",
              "      <td>3.12</td>\n",
              "      <td>92</td>\n",
              "      <td>6.06</td>\n",
              "      <td>0.492</td>\n",
              "      <td>0.393</td>\n",
              "      <td>1506.000000</td>\n",
              "    </tr>\n",
              "    <tr>\n",
              "      <th>14</th>\n",
              "      <td>14</td>\n",
              "      <td>Gulburga</td>\n",
              "      <td>4.61</td>\n",
              "      <td>1.42</td>\n",
              "      <td>31</td>\n",
              "      <td>-1.91</td>\n",
              "      <td>0.644</td>\n",
              "      <td>0.641</td>\n",
              "      <td>2236.000000</td>\n",
              "    </tr>\n",
              "    <tr>\n",
              "      <th>15</th>\n",
              "      <td>15</td>\n",
              "      <td>Hassan</td>\n",
              "      <td>6.51</td>\n",
              "      <td>2.75</td>\n",
              "      <td>42</td>\n",
              "      <td>2.03</td>\n",
              "      <td>0.265</td>\n",
              "      <td>0.265</td>\n",
              "      <td>3215.000000</td>\n",
              "    </tr>\n",
              "    <tr>\n",
              "      <th>16</th>\n",
              "      <td>16</td>\n",
              "      <td>Haveri</td>\n",
              "      <td>7.05</td>\n",
              "      <td>3.74</td>\n",
              "      <td>53</td>\n",
              "      <td>6.54</td>\n",
              "      <td>0.408</td>\n",
              "      <td>0.317</td>\n",
              "      <td>2113.000000</td>\n",
              "    </tr>\n",
              "    <tr>\n",
              "      <th>17</th>\n",
              "      <td>17</td>\n",
              "      <td>Kodagu</td>\n",
              "      <td>13.29</td>\n",
              "      <td>3.41</td>\n",
              "      <td>26</td>\n",
              "      <td>-1.75</td>\n",
              "      <td>0.161</td>\n",
              "      <td>0.262</td>\n",
              "      <td>4212.000000</td>\n",
              "    </tr>\n",
              "    <tr>\n",
              "      <th>18</th>\n",
              "      <td>18</td>\n",
              "      <td>Kolar</td>\n",
              "      <td>3.49</td>\n",
              "      <td>3.03</td>\n",
              "      <td>87</td>\n",
              "      <td>9.34</td>\n",
              "      <td>0.361</td>\n",
              "      <td>0.258</td>\n",
              "      <td>1361.000000</td>\n",
              "    </tr>\n",
              "    <tr>\n",
              "      <th>19</th>\n",
              "      <td>19</td>\n",
              "      <td>Koppal</td>\n",
              "      <td>3.21</td>\n",
              "      <td>2.47</td>\n",
              "      <td>77</td>\n",
              "      <td>4.58</td>\n",
              "      <td>0.482</td>\n",
              "      <td>0.588</td>\n",
              "      <td>2337.000000</td>\n",
              "    </tr>\n",
              "    <tr>\n",
              "      <th>20</th>\n",
              "      <td>20</td>\n",
              "      <td>Mandya</td>\n",
              "      <td>3.50</td>\n",
              "      <td>3.03</td>\n",
              "      <td>87</td>\n",
              "      <td>7.43</td>\n",
              "      <td>0.311</td>\n",
              "      <td>0.498</td>\n",
              "      <td>1949.000000</td>\n",
              "    </tr>\n",
              "    <tr>\n",
              "      <th>21</th>\n",
              "      <td>21</td>\n",
              "      <td>Mysore</td>\n",
              "      <td>4.39</td>\n",
              "      <td>3.13</td>\n",
              "      <td>72</td>\n",
              "      <td>5.92</td>\n",
              "      <td>0.262</td>\n",
              "      <td>0.463</td>\n",
              "      <td>2396.000000</td>\n",
              "    </tr>\n",
              "    <tr>\n",
              "      <th>22</th>\n",
              "      <td>22</td>\n",
              "      <td>Raichur</td>\n",
              "      <td>3.62</td>\n",
              "      <td>1.23</td>\n",
              "      <td>34</td>\n",
              "      <td>0.15</td>\n",
              "      <td>0.602</td>\n",
              "      <td>0.615</td>\n",
              "      <td>2075.000000</td>\n",
              "    </tr>\n",
              "    <tr>\n",
              "      <th>23</th>\n",
              "      <td>23</td>\n",
              "      <td>Shimoga</td>\n",
              "      <td>14.26</td>\n",
              "      <td>4.81</td>\n",
              "      <td>34</td>\n",
              "      <td>-10.59</td>\n",
              "      <td>0.250</td>\n",
              "      <td>0.352</td>\n",
              "      <td>3811.000000</td>\n",
              "    </tr>\n",
              "    <tr>\n",
              "      <th>24</th>\n",
              "      <td>24</td>\n",
              "      <td>Tumkur</td>\n",
              "      <td>3.33</td>\n",
              "      <td>3.06</td>\n",
              "      <td>92</td>\n",
              "      <td>7.55</td>\n",
              "      <td>0.321</td>\n",
              "      <td>0.403</td>\n",
              "      <td>1577.000000</td>\n",
              "    </tr>\n",
              "    <tr>\n",
              "      <th>25</th>\n",
              "      <td>25</td>\n",
              "      <td>Udupi</td>\n",
              "      <td>33.36</td>\n",
              "      <td>6.14</td>\n",
              "      <td>18</td>\n",
              "      <td>-22.38</td>\n",
              "      <td>0.111</td>\n",
              "      <td>0.113</td>\n",
              "      <td>2163.148148</td>\n",
              "    </tr>\n",
              "    <tr>\n",
              "      <th>26</th>\n",
              "      <td>26</td>\n",
              "      <td>Uttar Kannada</td>\n",
              "      <td>19.35</td>\n",
              "      <td>3.58</td>\n",
              "      <td>18</td>\n",
              "      <td>-1.87</td>\n",
              "      <td>0.146</td>\n",
              "      <td>0.146</td>\n",
              "      <td>1553.000000</td>\n",
              "    </tr>\n",
              "  </tbody>\n",
              "</table>\n",
              "</div>"
            ],
            "text/plain": [
              "    Unnamed: 0             Dist  Mean_rain  Std_dev  Var  Prec_trend  \\\n",
              "0            0         Begalkat       3.11     1.31   42        1.30   \n",
              "1            1  Bangalore Rural       3.90     3.01   77        7.83   \n",
              "2            2  Bangalore Urban       4.09     3.02   74        7.89   \n",
              "3            3          Belgaum       6.37     2.32   36        7.76   \n",
              "4            4          Bellary       3.41     2.76   81        5.44   \n",
              "5            5            Bidar       5.29     1.48   28       -0.54   \n",
              "6            6          Bijapur       3.25     1.10   24       -0.96   \n",
              "7            7   Chamaraj Nagar       4.27     2.84   66        5.01   \n",
              "8            8      Chikmagalur      12.96     2.92   23       -2.85   \n",
              "9            9      Chitradurga       3.21     2.94   91        8.73   \n",
              "10          10  Dakshin Kannada      26.75     5.18   19      -17.69   \n",
              "11          11        Davangede       4.52     3.02   67        8.52   \n",
              "12          12          Dharwad       5.67     3.51   62        6.12   \n",
              "13          13            Gadag       3.38     3.12   92        6.06   \n",
              "14          14         Gulburga       4.61     1.42   31       -1.91   \n",
              "15          15           Hassan       6.51     2.75   42        2.03   \n",
              "16          16           Haveri       7.05     3.74   53        6.54   \n",
              "17          17           Kodagu      13.29     3.41   26       -1.75   \n",
              "18          18            Kolar       3.49     3.03   87        9.34   \n",
              "19          19           Koppal       3.21     2.47   77        4.58   \n",
              "20          20           Mandya       3.50     3.03   87        7.43   \n",
              "21          21           Mysore       4.39     3.13   72        5.92   \n",
              "22          22          Raichur       3.62     1.23   34        0.15   \n",
              "23          23          Shimoga      14.26     4.81   34      -10.59   \n",
              "24          24           Tumkur       3.33     3.06   92        7.55   \n",
              "25          25            Udupi      33.36     6.14   18      -22.38   \n",
              "26          26    Uttar Kannada      19.35     3.58   18       -1.87   \n",
              "\n",
              "    Temp_max  Temp_min   Yield/area  \n",
              "0      0.536     0.537  3344.000000  \n",
              "1      0.400     0.396  3433.000000  \n",
              "2      0.323     0.320  2646.000000  \n",
              "3      0.444     0.332  2154.000000  \n",
              "4      0.471     0.575  2400.000000  \n",
              "5      0.610     0.572  1570.000000  \n",
              "6      0.632     0.611  2408.000000  \n",
              "7      0.265     0.365  2828.000000  \n",
              "8      0.253     0.257  1876.000000  \n",
              "9      0.334     0.335  1705.000000  \n",
              "10     0.141     0.148  2163.148148  \n",
              "11     0.364     0.366  1609.000000  \n",
              "12     0.415     0.324  2091.000000  \n",
              "13     0.492     0.393  1506.000000  \n",
              "14     0.644     0.641  2236.000000  \n",
              "15     0.265     0.265  3215.000000  \n",
              "16     0.408     0.317  2113.000000  \n",
              "17     0.161     0.262  4212.000000  \n",
              "18     0.361     0.258  1361.000000  \n",
              "19     0.482     0.588  2337.000000  \n",
              "20     0.311     0.498  1949.000000  \n",
              "21     0.262     0.463  2396.000000  \n",
              "22     0.602     0.615  2075.000000  \n",
              "23     0.250     0.352  3811.000000  \n",
              "24     0.321     0.403  1577.000000  \n",
              "25     0.111     0.113  2163.148148  \n",
              "26     0.146     0.146  1553.000000  "
            ]
          },
          "metadata": {
            "tags": []
          },
          "execution_count": 8
        }
      ]
    },
    {
      "metadata": {
        "id": "2VTqMDqo3D72",
        "colab_type": "text"
      },
      "cell_type": "markdown",
      "source": [
        "**APPLYING SIMPLE LINEAR REGRESSION **\n"
      ]
    },
    {
      "metadata": {
        "id": "1c_wnZkhcdVe",
        "colab_type": "code",
        "colab": {}
      },
      "cell_type": "code",
      "source": [
        "import matplotlib.pyplot as plt\n",
        "import numpy as np\n",
        "from sklearn import linear_model\n",
        "from sklearn.model_selection import train_test_split\n",
        "from sklearn.linear_model import LinearRegression\n",
        "from sklearn.metrics import mean_squared_error,r2_score\n",
        "X=df.drop('Yield/area',axis=1)\n",
        "y=df[['Yield/area']]\n",
        "X_train,X_test,y_train,y_test=train_test_split(X,y,test_size=0.3)"
      ],
      "execution_count": 0,
      "outputs": []
    },
    {
      "metadata": {
        "id": "osK_JerkkdOH",
        "colab_type": "code",
        "colab": {
          "base_uri": "https://localhost:8080/",
          "height": 54
        },
        "outputId": "3d82f481-c19b-488b-98aa-35aec32d902a"
      },
      "cell_type": "code",
      "source": [
        "reg=LinearRegression()\n",
        "reg.fit(X_train[['Mean_rain']],y_train)\n",
        "y_predicted=reg.predict(X_test[['Mean_rain']])\n",
        "print(\"MEAN SQUARED ERROR:\",mean_squared_error(y_test,y_predicted),\"%\")\n",
        "print(\"R2 score:\",r2_score(y_test,y_predicted),\"%\")"
      ],
      "execution_count": 14,
      "outputs": [
        {
          "output_type": "stream",
          "text": [
            "MEAN SQUARED ERROR: 340488.57014603517 %\n",
            "R2 score: -0.1777445622134104 %\n"
          ],
          "name": "stdout"
        }
      ]
    },
    {
      "metadata": {
        "id": "HIswCtxD3vJJ",
        "colab_type": "code",
        "colab": {
          "base_uri": "https://localhost:8080/",
          "height": 54
        },
        "outputId": "6feb25b2-ec20-46ba-a178-966c818a2559"
      },
      "cell_type": "code",
      "source": [
        "reg=LinearRegression()\n",
        "reg.fit(X_train[['Std_dev']],y_train)\n",
        "y_predicted=reg.predict(X_test[['Std_dev']])\n",
        "print(\"MEAN SQUARED ERROR:\",mean_squared_error(y_test,y_predicted),\"%\")\n",
        "print(\"R2 score:\",r2_score(y_test,y_predicted),\"%\")"
      ],
      "execution_count": 18,
      "outputs": [
        {
          "output_type": "stream",
          "text": [
            "MEAN SQUARED ERROR: 344825.64574112545 %\n",
            "R2 score: -0.19274643788822443 %\n"
          ],
          "name": "stdout"
        }
      ]
    },
    {
      "metadata": {
        "id": "WDbUPFAb4B_9",
        "colab_type": "code",
        "colab": {
          "base_uri": "https://localhost:8080/",
          "height": 54
        },
        "outputId": "6eec2e90-afeb-4742-eeb1-470e2a0ea66a"
      },
      "cell_type": "code",
      "source": [
        "reg=LinearRegression()\n",
        "reg.fit(X_train[['Var']],y_train)\n",
        "y_predicted=reg.predict(X_test[['Var']])\n",
        "print(\"MEAN SQUARED ERROR:\",mean_squared_error(y_test,y_predicted),\"%\")\n",
        "print(\"R2 score:\",r2_score(y_test,y_predicted),\"%\")"
      ],
      "execution_count": 19,
      "outputs": [
        {
          "output_type": "stream",
          "text": [
            "MEAN SQUARED ERROR: 347980.1351273744 %\n",
            "R2 score: -0.20365776662863166 %\n"
          ],
          "name": "stdout"
        }
      ]
    },
    {
      "metadata": {
        "id": "5aXizDm64zdI",
        "colab_type": "code",
        "colab": {
          "base_uri": "https://localhost:8080/",
          "height": 54
        },
        "outputId": "6da5a396-96ef-43b1-bd24-db0a178a0a77"
      },
      "cell_type": "code",
      "source": [
        "reg=LinearRegression()\n",
        "reg.fit(X_train[['Prec_trend']],y_train)\n",
        "y_predicted=reg.predict(X_test[['Prec_trend']])\n",
        "print(\"MEAN SQUARED ERROR:\",mean_squared_error(y_test,y_predicted),\"%\")\n",
        "print(\"R2 score:\",r2_score(y_test,y_predicted),\"%\")"
      ],
      "execution_count": 20,
      "outputs": [
        {
          "output_type": "stream",
          "text": [
            "MEAN SQUARED ERROR: 335961.6315825391 %\n",
            "R2 score: -0.16208595354309585 %\n"
          ],
          "name": "stdout"
        }
      ]
    },
    {
      "metadata": {
        "id": "BZ44ZtAI5LO6",
        "colab_type": "code",
        "colab": {
          "base_uri": "https://localhost:8080/",
          "height": 54
        },
        "outputId": "5f797692-4a50-452f-9014-2fec722d9974"
      },
      "cell_type": "code",
      "source": [
        "reg=LinearRegression()\n",
        "reg.fit(X_train[['Temp_max']],y_train)\n",
        "y_predicted=reg.predict(X_test[['Temp_max']])\n",
        "print(\"MEAN SQUARED ERROR:\",mean_squared_error(y_test,y_predicted),\"%\")\n",
        "print(\"R2 score:\",r2_score(y_test,y_predicted),\"%\")"
      ],
      "execution_count": 21,
      "outputs": [
        {
          "output_type": "stream",
          "text": [
            "MEAN SQUARED ERROR: 337331.55888146046 %\n",
            "R2 score: -0.1668245103358843 %\n"
          ],
          "name": "stdout"
        }
      ]
    },
    {
      "metadata": {
        "id": "TS82IKLQ6JKO",
        "colab_type": "code",
        "colab": {
          "base_uri": "https://localhost:8080/",
          "height": 54
        },
        "outputId": "d4b87c4c-9732-4519-9137-e64dc01a059c"
      },
      "cell_type": "code",
      "source": [
        "reg=LinearRegression()\n",
        "reg.fit(X_train[['Temp_min']],y_train)\n",
        "y_predicted=reg.predict(X_test[['Temp_min']])\n",
        "print(\"MEAN SQUARED ERROR:\",mean_squared_error(y_test,y_predicted),\"%\")\n",
        "print(\"R2 score:\",r2_score(y_test,y_predicted),\"%\")"
      ],
      "execution_count": 22,
      "outputs": [
        {
          "output_type": "stream",
          "text": [
            "MEAN SQUARED ERROR: 346143.4313391727 %\n",
            "R2 score: -0.19730463736492831 %\n"
          ],
          "name": "stdout"
        }
      ]
    },
    {
      "metadata": {
        "id": "Vw1uiGtV6Zhr",
        "colab_type": "text"
      },
      "cell_type": "markdown",
      "source": [
        "**APPLYING MULTIPLE LINEAR REGRESSION**"
      ]
    },
    {
      "metadata": {
        "id": "NdXIpgL16ijZ",
        "colab_type": "code",
        "colab": {
          "base_uri": "https://localhost:8080/",
          "height": 54
        },
        "outputId": "66ca7d57-a133-4281-bcf2-2c49da7e9d00"
      },
      "cell_type": "code",
      "source": [
        "reg=LinearRegression()\n",
        "reg.fit(X_train[['Mean_rain','Std_dev','Var','Prec_trend','Temp_max','Temp_min']],y_train)\n",
        "y_predicted=reg.predict(X_test[['Mean_rain','Std_dev','Var','Prec_trend','Temp_max','Temp_min']])\n",
        "print(\"MEAN SQUARED ERROR:\",mean_squared_error(y_test,y_predicted),\"%\")\n",
        "print(\"R2 score:\",r2_score(y_test,y_predicted),\"%\")"
      ],
      "execution_count": 23,
      "outputs": [
        {
          "output_type": "stream",
          "text": [
            "MEAN SQUARED ERROR: 656071.1816909346 %\n",
            "R2 score: -1.2693398087636867 %\n"
          ],
          "name": "stdout"
        }
      ]
    },
    {
      "metadata": {
        "id": "IaMb6miMA6wZ",
        "colab_type": "code",
        "colab": {
          "base_uri": "https://localhost:8080/",
          "height": 54
        },
        "outputId": "447f7ff2-e5f6-4125-c6b4-5092d5539ba7"
      },
      "cell_type": "code",
      "source": [
        "reg=LinearRegression()\n",
        "reg.fit(X_train[['Mean_rain','Prec_trend','Temp_max']],y_train)\n",
        "y_predicted=reg.predict(X_test[['Mean_rain','Prec_trend','Temp_max']])\n",
        "print(\"MEAN SQUARED ERROR:\",mean_squared_error(y_test,y_predicted),\"%\")\n",
        "print(\"R2 score:\",r2_score(y_test,y_predicted),\"%\")"
      ],
      "execution_count": 24,
      "outputs": [
        {
          "output_type": "stream",
          "text": [
            "MEAN SQUARED ERROR: 481722.82104037143 %\n",
            "R2 score: -0.6662715953462608 %\n"
          ],
          "name": "stdout"
        }
      ]
    },
    {
      "metadata": {
        "id": "GKECTwrNDKUy",
        "colab_type": "text"
      },
      "cell_type": "markdown",
      "source": [
        "**APPLYING POLYNOMIAL REGRESSION**"
      ]
    },
    {
      "metadata": {
        "id": "dTgnVNhNBsaA",
        "colab_type": "code",
        "colab": {}
      },
      "cell_type": "code",
      "source": [
        ""
      ],
      "execution_count": 0,
      "outputs": []
    }
  ]
}
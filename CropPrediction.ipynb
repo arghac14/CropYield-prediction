{
  "nbformat": 4,
  "nbformat_minor": 0,
  "metadata": {
    "colab": {
      "name": "CropPrediction.ipynb",
      "version": "0.3.2",
      "provenance": [],
      "private_outputs": true,
      "collapsed_sections": [],
      "include_colab_link": true
    },
    "kernelspec": {
      "name": "python3",
      "display_name": "Python 3"
    }
  },
  "cells": [
    {
      "cell_type": "markdown",
      "metadata": {
        "id": "view-in-github",
        "colab_type": "text"
      },
      "source": [
        "<a href=\"https://colab.research.google.com/github/disha2sinha/CropYield-prediction/blob/master/CropPrediction.ipynb\" target=\"_parent\"><img src=\"https://colab.research.google.com/assets/colab-badge.svg\" alt=\"Open In Colab\"/></a>"
      ]
    },
    {
      "metadata": {
        "id": "HktbvYERJFjr",
        "colab_type": "code",
        "colab": {}
      },
      "cell_type": "code",
      "source": [
        "import pandas as pd\n",
        "import numpy as np"
      ],
      "execution_count": 0,
      "outputs": []
    },
    {
      "metadata": {
        "id": "OCPeVLHuJLg8",
        "colab_type": "code",
        "colab": {}
      },
      "cell_type": "code",
      "source": [
        "data={\n",
        "    'Dist':['Begalkat','Bangalore Rural','Bangalore Urban','Belgaum','Bellary','Bidar','Bijapur','Chamaraj Nagar','Chikmagalur','Chitradurga','Dakshin Kannada','Davangede','Dharwad','Gadag','Gulburga','Hassan','Haveri','Kodagu','Kolar','Koppal','Mandya','Mysore','Raichur','Shimoga','Tumkur','Udupi','Uttar Kannada'],\n",
        "    'Mean_rain':[3.11],\n",
        "    'Std_dev':[1.31],\n",
        "    'Var':[42],\n",
        "    'Prec_trend':[1.30],\n",
        "    'Temp_max':[0.536],\n",
        "    'Temp_min':[0.537],\n",
        "    'Yield':[96747]\n",
        "}\n",
        "df=pd.DataFrame(data)\n",
        "df"
      ],
      "execution_count": 0,
      "outputs": []
    },
    {
      "metadata": {
        "id": "82Jx_oywNRRB",
        "colab_type": "text"
      },
      "cell_type": "markdown",
      "source": [
        ""
      ]
    },
    {
      "metadata": {
        "id": "AwE0ft1SND5t",
        "colab_type": "text"
      },
      "cell_type": "markdown",
      "source": [
        ""
      ]
    },
    {
      "metadata": {
        "id": "ljEgICKXNB0K",
        "colab_type": "text"
      },
      "cell_type": "markdown",
      "source": [
        ""
      ]
    },
    {
      "metadata": {
        "id": "-sGoHm25NAgQ",
        "colab_type": "text"
      },
      "cell_type": "markdown",
      "source": [
        ""
      ]
    },
    {
      "metadata": {
        "id": "9V6iFEo4M_ci",
        "colab_type": "text"
      },
      "cell_type": "markdown",
      "source": [
        ""
      ]
    }
  ]
}
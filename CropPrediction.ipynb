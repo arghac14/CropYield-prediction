{
  "nbformat": 4,
  "nbformat_minor": 0,
  "metadata": {
    "colab": {
      "name": "CropPrediction.ipynb",
      "version": "0.3.2",
      "provenance": [],
      "collapsed_sections": [],
      "include_colab_link": true
    },
    "kernelspec": {
      "name": "python3",
      "display_name": "Python 3"
    }
  },
  "cells": [
    {
      "cell_type": "markdown",
      "metadata": {
        "id": "view-in-github",
        "colab_type": "text"
      },
      "source": [
        "<a href=\"https://colab.research.google.com/github/arghac14/CropYield-prediction/blob/master/CropPrediction.ipynb\" target=\"_parent\"><img src=\"https://colab.research.google.com/assets/colab-badge.svg\" alt=\"Open In Colab\"/></a>"
      ]
    },
    {
      "metadata": {
        "id": "HktbvYERJFjr",
        "colab_type": "code",
        "colab": {}
      },
      "cell_type": "code",
      "source": [
        "import pandas as pd\n",
        "import numpy as np"
      ],
      "execution_count": 0,
      "outputs": []
    },
    {
      "metadata": {
        "id": "OCPeVLHuJLg8",
        "colab_type": "code",
        "outputId": "4881010c-2d61-448e-bf52-ed2b5d74a8f2",
        "colab": {
          "base_uri": "https://localhost:8080/",
          "height": 195
        }
      },
      "cell_type": "code",
      "source": [
        "data={\n",
        "#     'Dist':['Begalkat',],\n",
        "     'Mean_rain':[3.11,3.9,4.09,6.37,3.41,5.29,3.25,4.27,12.96,3.21,26.75,4.52,5.67,3.38,4.61,6.51,7.05,13.29,3.49,3.21,3.5,4.39,3.62,14.26,3.33,33.36,19.35],\n",
        "     'Std_dev':[1.31,3.01,3.02,2.32,2.76,1.48,1.10,2.84,2.92,2.94,5.18,3.02,3.51,3.12,1.42,2.75,3.74,3.41,3.03,2.47,3.03,3.13,1.23,4.81,3.06,6.14,3.58],\n",
        "     'Var':[42,77,74,36,81,28,24,66,23,91,19,67,62,92,31,42,53,26,87,77,87,72,34,34,92,18,18],\n",
        "    'Prec_trend':[1.30,7.83,7.89,7.76,5.44,-0.54,-0.96,5.01,-2.85,8.73,-17.69,8.52,6.12,6.06,-1.91,2.03,6.54,-1.75,9.34,4.58,7.43,5.92,0.15,-10.59,7.55,-22.38,-1.87],\n",
        "    'Temp_max':[0.536,0.400,0.323,.444,.471,.610,.632,.265,.253,.334,.141,.364,.415,.492,.644,.265,0.408,.161,.361,.482,.311,.262,.602,.250,.321,.111,.146],\n",
        "    'Temp_min':[0.537,0.396,0.320,.332,.575,.572,.611,.365,.257,.335,.148,.366,.324,.393,.641,.265,.317,.262,.258,.588,.498,.463,.615,.352,.403,.113,.146],\n",
        "    #'Yield/':[96747,15590,1820,188748,1336529,531,29745,43025,1397,78792,0,197937,25591,28784,4674,58528,209750,9867,21851,25503,5947,42859,209,96597,21744,0,177],\n",
        "    'Yield/area':[3344,3433,2646,2154,2400,1570,2408,2828,1876,1705,0,1609,2091,1506,2236,3215,2113,4212,1361,2337,1949,2396,2075,3811,1577,0,1553]\n",
        "}\n",
        "df=pd.DataFrame(data)\n",
        "df.head()"
      ],
      "execution_count": 0,
      "outputs": [
        {
          "output_type": "execute_result",
          "data": {
            "text/html": [
              "<div>\n",
              "<style scoped>\n",
              "    .dataframe tbody tr th:only-of-type {\n",
              "        vertical-align: middle;\n",
              "    }\n",
              "\n",
              "    .dataframe tbody tr th {\n",
              "        vertical-align: top;\n",
              "    }\n",
              "\n",
              "    .dataframe thead th {\n",
              "        text-align: right;\n",
              "    }\n",
              "</style>\n",
              "<table border=\"1\" class=\"dataframe\">\n",
              "  <thead>\n",
              "    <tr style=\"text-align: right;\">\n",
              "      <th></th>\n",
              "      <th>Mean_rain</th>\n",
              "      <th>Std_dev</th>\n",
              "      <th>Var</th>\n",
              "      <th>Prec_trend</th>\n",
              "      <th>Temp_max</th>\n",
              "      <th>Temp_min</th>\n",
              "      <th>Yield/area</th>\n",
              "    </tr>\n",
              "  </thead>\n",
              "  <tbody>\n",
              "    <tr>\n",
              "      <th>0</th>\n",
              "      <td>3.11</td>\n",
              "      <td>1.31</td>\n",
              "      <td>42</td>\n",
              "      <td>1.30</td>\n",
              "      <td>0.536</td>\n",
              "      <td>0.537</td>\n",
              "      <td>3344</td>\n",
              "    </tr>\n",
              "    <tr>\n",
              "      <th>1</th>\n",
              "      <td>3.90</td>\n",
              "      <td>3.01</td>\n",
              "      <td>77</td>\n",
              "      <td>7.83</td>\n",
              "      <td>0.400</td>\n",
              "      <td>0.396</td>\n",
              "      <td>3433</td>\n",
              "    </tr>\n",
              "    <tr>\n",
              "      <th>2</th>\n",
              "      <td>4.09</td>\n",
              "      <td>3.02</td>\n",
              "      <td>74</td>\n",
              "      <td>7.89</td>\n",
              "      <td>0.323</td>\n",
              "      <td>0.320</td>\n",
              "      <td>2646</td>\n",
              "    </tr>\n",
              "    <tr>\n",
              "      <th>3</th>\n",
              "      <td>6.37</td>\n",
              "      <td>2.32</td>\n",
              "      <td>36</td>\n",
              "      <td>7.76</td>\n",
              "      <td>0.444</td>\n",
              "      <td>0.332</td>\n",
              "      <td>2154</td>\n",
              "    </tr>\n",
              "    <tr>\n",
              "      <th>4</th>\n",
              "      <td>3.41</td>\n",
              "      <td>2.76</td>\n",
              "      <td>81</td>\n",
              "      <td>5.44</td>\n",
              "      <td>0.471</td>\n",
              "      <td>0.575</td>\n",
              "      <td>2400</td>\n",
              "    </tr>\n",
              "  </tbody>\n",
              "</table>\n",
              "</div>"
            ],
            "text/plain": [
              "   Mean_rain  Std_dev  Var  Prec_trend  Temp_max  Temp_min  Yield/area\n",
              "0       3.11     1.31   42        1.30     0.536     0.537        3344\n",
              "1       3.90     3.01   77        7.83     0.400     0.396        3433\n",
              "2       4.09     3.02   74        7.89     0.323     0.320        2646\n",
              "3       6.37     2.32   36        7.76     0.444     0.332        2154\n",
              "4       3.41     2.76   81        5.44     0.471     0.575        2400"
            ]
          },
          "metadata": {
            "tags": []
          },
          "execution_count": 83
        }
      ]
    },
    {
      "metadata": {
        "id": "jFKKLtlx7Mz_",
        "colab_type": "code",
        "outputId": "02aae61c-3fc2-44b9-abe9-86e9e75d47b4",
        "colab": {
          "base_uri": "https://localhost:8080/",
          "height": 286
        }
      },
      "cell_type": "code",
      "source": [
        "import matplotlib.pyplot as plt\n",
        "plt.plot(sorted(df['Prec_trend'].values),sorted(df['Yield/area'].values))\n",
        "plt.scatter(sorted(df['Prec_trend'].values),sorted(df['Yield/area'].values))"
      ],
      "execution_count": 0,
      "outputs": [
        {
          "output_type": "execute_result",
          "data": {
            "text/plain": [
              "<matplotlib.collections.PathCollection at 0x7fa696f17668>"
            ]
          },
          "metadata": {
            "tags": []
          },
          "execution_count": 84
        },
        {
          "output_type": "display_data",
          "data": {
            "image/png": "[encoded data removed]",
            "text/plain": [
              "<Figure size 432x288 with 1 Axes>"
            ]
          },
          "metadata": {
            "tags": []
          }
        }
      ]
    },
    {
      "metadata": {
        "id": "RDIuTuXlmUBA",
        "colab_type": "text"
      },
      "cell_type": "markdown",
      "source": [
        ""
      ]
    },
    {
      "metadata": {
        "id": "P2ukAk72lzHy",
        "colab_type": "text"
      },
      "cell_type": "markdown",
      "source": [
        ""
      ]
    },
    {
      "metadata": {
        "id": "f-fu0y2q97s6",
        "colab_type": "code",
        "colab": {}
      },
      "cell_type": "code",
      "source": [
        "from sklearn.linear_model import LinearRegression\n",
        "from sklearn.model_selection import train_test_split\n"
      ],
      "execution_count": 0,
      "outputs": []
    },
    {
      "metadata": {
        "id": "FZ41wTs8-F_z",
        "colab_type": "code",
        "outputId": "ee873544-ecfe-4790-d8e0-248128f0a3bc",
        "colab": {
          "base_uri": "https://localhost:8080/",
          "height": 50
        }
      },
      "cell_type": "code",
      "source": [
        "x=df.iloc[:,:6].values\n",
        "y=df['Yield/area'].values\n",
        "x_train,x_test,y_train,y_test=train_test_split(x,y, test_size=.2, random_state=42)\n",
        "reg=LinearRegression()\n",
        "reg.fit(x_train,y_train)\n",
        "y_pred=reg.predict(x_test)\n",
        "y_pred"
      ],
      "execution_count": 0,
      "outputs": [
        {
          "output_type": "execute_result",
          "data": {
            "text/plain": [
              "array([2405.74450665,  741.73423837, 1630.67334567, 3664.73085849,\n",
              "       2100.32990953, 2571.03698789])"
            ]
          },
          "metadata": {
            "tags": []
          },
          "execution_count": 86
        }
      ]
    },
    {
      "metadata": {
        "id": "vly115F3Arl8",
        "colab_type": "code",
        "outputId": "595b25e0-3c86-4b56-efae-b95810fbb52b",
        "colab": {
          "base_uri": "https://localhost:8080/",
          "height": 286
        }
      },
      "cell_type": "code",
      "source": [
        "plt.plot(sorted(y_pred),sorted(y_test))\n",
        "plt.plot(sorted(y_test),sorted(y_test))"
      ],
      "execution_count": 0,
      "outputs": [
        {
          "output_type": "execute_result",
          "data": {
            "text/plain": [
              "[<matplotlib.lines.Line2D at 0x7fa696f6f358>]"
            ]
          },
          "metadata": {
            "tags": []
          },
          "execution_count": 87
        },
        {
          "output_type": "display_data",
          "data": {
            "image/png": "[encoded data removed]",
            "text/plain": [
              "<Figure size 432x288 with 1 Axes>"
            ]
          },
          "metadata": {
            "tags": []
          }
        }
      ]
    },
    {
      "metadata": {
        "id": "Gey5Wibkqkbj",
        "colab_type": "code",
        "outputId": "778a044c-2583-460e-bd75-bde028ba3a18",
        "colab": {
          "base_uri": "https://localhost:8080/",
          "height": 34
        }
      },
      "cell_type": "code",
      "source": [
        "from sklearn.metrics import r2_score\n",
        "r=metrics.explained_variance_score(y_test, y_pred)\n",
        "r"
      ],
      "execution_count": 0,
      "outputs": [
        {
          "output_type": "execute_result",
          "data": {
            "text/plain": [
              "-1.0057261928923964"
            ]
          },
          "metadata": {
            "tags": []
          },
          "execution_count": 112
        }
      ]
    }
  ]
}
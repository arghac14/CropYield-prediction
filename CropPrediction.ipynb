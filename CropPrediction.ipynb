{
  "nbformat": 4,
  "nbformat_minor": 0,
  "metadata": {
    "colab": {
      "name": "DatasetExploration.ipynb",
      "version": "0.3.2",
      "provenance": [],
      "collapsed_sections": [],
      "include_colab_link": true
    },
    "kernelspec": {
      "name": "python3",
      "display_name": "Python 3"
    }
  },
  "cells": [
    {
      "cell_type": "markdown",
      "metadata": {
        "id": "view-in-github",
        "colab_type": "text"
      },
      "source": [
        "<a href=\"https://colab.research.google.com/github/arghac14/CropYield-prediction/blob/master/CropPrediction.ipynb\" target=\"_parent\"><img src=\"https://colab.research.google.com/assets/colab-badge.svg\" alt=\"Open In Colab\"/></a>"
      ]
    },
    {
      "metadata": {
        "id": "HktbvYERJFjr",
        "colab_type": "code",
        "colab": {}
      },
      "cell_type": "code",
      "source": [
        "import pandas as pd\n",
        "import numpy as np\n",
        "import matplotlib.pyplot as plt\n",
        "%matplotlib inline"
      ],
      "execution_count": 0,
      "outputs": []
    },
    {
      "metadata": {
        "id": "OCPeVLHuJLg8",
        "colab_type": "code",
        "colab": {}
      },
      "cell_type": "code",
      "source": [
        "data={\n",
        "    'Dist':['Begalkat','Bangalore Rural','Bangalore Urban','Belgaum','Bellary','Bidar','Bijapur','Chamaraj Nagar','Chikmagalur','Chitradurga','Dakshin Kannada','Davangede','Dharwad','Gadag','Gulburga','Hassan','Haveri','Kodagu','Kolar','Koppal','Mandya','Mysore','Raichur','Shimoga','Tumkur','Udupi','Uttar Kannada'],\n",
        "    'Mean_rain':[3.11,3.9,4.09,6.37,3.41,5.29,3.25,4.27,12.96,3.21,26.75,4.52,5.67,3.38,4.61,6.51,7.05,13.29,3.49,3.21,3.5,4.39,3.62,14.26,3.33,33.36,19.35],\n",
        "     'Std_dev':[1.31,3.01,3.02,2.32,2.76,1.48,1.10,2.84,2.92,2.94,5.18,3.02,3.51,3.12,1.42,2.75,3.74,3.41,3.03,2.47,3.03,3.13,1.23,4.81,3.06,6.14,3.58],\n",
        "     'Var':[42,77,74,36,81,28,24,66,23,91,19,67,62,92,31,42,53,26,87,77,87,72,34,34,92,18,18],\n",
        "    'Prec_trend':[1.30,7.83,7.89,7.76,5.44,-0.54,-0.96,5.01,-2.85,8.73,-17.69,8.52,6.12,6.06,-1.91,2.03,6.54,-1.75,9.34,4.58,7.43,5.92,0.15,-10.59,7.55,-22.38,-1.87],\n",
        "    'Temp_max':[0.536,0.400,0.323,.444,.471,.610,.632,.265,.253,.334,.141,.364,.415,.492,.644,.265,0.408,.161,.361,.482,.311,.262,.602,.250,.321,.111,.146],\n",
        "    'Temp_min':[0.537,0.396,0.320,.332,.575,.572,.611,.365,.257,.335,.148,.366,.324,.393,.641,.265,.317,.262,.258,.588,.498,.463,.615,.352,.403,.113,.146],\n",
        "    #'Yield':[96747,15590,1820,188748,1336529,531,29745,43025,1397,78792,0,197937,25591,28784,4674,58528,209750,9867,21851,25503,5947,42859,209,96597,21744,0,177],\n",
        "    'Yield/area':[3344,3433,2646,2154,2400,1570,2408,2828,1876,1705,0,1609,2091,1506,2236,3215,2113,4212,1361,2337,1949,2396,2075,3811,1577,0,1553]\n",
        "}\n",
        "df=pd.DataFrame(data)\n",
        "df"
      ],
      "execution_count": 0,
      "outputs": []
    }
  ]
}
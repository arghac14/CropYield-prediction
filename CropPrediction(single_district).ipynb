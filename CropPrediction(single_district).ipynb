{
  "nbformat": 4,
  "nbformat_minor": 0,
  "metadata": {
    "colab": {
      "name": "CropPrediction(single_district[Bengalore]).ipynb",
      "version": "0.3.2",
      "provenance": [],
      "collapsed_sections": [],
      "include_colab_link": true
    },
    "kernelspec": {
      "name": "python3",
      "display_name": "Python 3"
    }
  },
  "cells": [
    {
      "cell_type": "markdown",
      "metadata": {
        "id": "view-in-github",
        "colab_type": "text"
      },
      "source": [
        "<a href=\"https://colab.research.google.com/github/arghac14/CropYield-prediction/blob/master/CropPrediction(single_district).ipynb\" target=\"_parent\"><img src=\"https://colab.research.google.com/assets/colab-badge.svg\" alt=\"Open In Colab\"/></a>"
      ]
    },
    {
      "cell_type": "code",
      "metadata": {
        "id": "HktbvYERJFjr",
        "colab_type": "code",
        "colab": {}
      },
      "source": [
        "import pandas as pd\n",
        "import numpy as np\n",
        "import matplotlib.pyplot as plt\n",
        "%matplotlib inline"
      ],
      "execution_count": 0,
      "outputs": []
    },
    {
      "cell_type": "markdown",
      "metadata": {
        "id": "NqbyvO-a05Bk",
        "colab_type": "text"
      },
      "source": [
        "### Creating Dataset(Bangalore District)"
      ]
    },
    {
      "cell_type": "code",
      "metadata": {
        "id": "OCPeVLHuJLg8",
        "colab_type": "code",
        "colab": {}
      },
      "source": [
        "Bangalore_data={\n",
        "    'Year':[1990,1991,1992,1993,1994,1995,1996,1997,1998,1999,2000,2001,2002],\n",
        "    'Precipitation':[698.485,996.754,819.437,933.128,602.847,941.275,1081.408,1091.201,1218.563,922.834,1000.767,731.834,748.194],\n",
        "    'Min_Temp':[24.706,24.771,24.561,24.987,24.642,24.901,24.862,25.139,25.434,24.79,24.759,25.148,25.263],\n",
        "    'Cloud_Cover':[48.424,48.394,48.394,48.394,48.394,48.394,50.766,80.049,50.213,48.408,49.684,52.792,49.134],\n",
        "    'Vapour_pressure':[21.208,21.37,21.085,21.193,21.191,21.488,21.311,21.435,21.766,21.108,21.265,21.484,21.56],\n",
        "    'Area':[18057,18070,18079,18051,17609,18050,17802,18042,17650,18123,17890,18090,18790],\n",
        "    'Production':[16072,20353,20847,18124,22822,15432,21371,18076,19870,17652,18562,19087,20981]\n",
        "}\n",
        "df1=pd.DataFrame(Bangalore_data)\n"
      ],
      "execution_count": 0,
      "outputs": []
    },
    {
      "cell_type": "markdown",
      "metadata": {
        "id": "XjC56lWQ0-01",
        "colab_type": "text"
      },
      "source": [
        "### Showing correlation between dependent and independent variables"
      ]
    },
    {
      "cell_type": "code",
      "metadata": {
        "id": "f_iRYyJj1UdF",
        "colab_type": "code",
        "outputId": "5405e79a-c933-4258-eaf8-fcbd988b87b5",
        "colab": {
          "base_uri": "https://localhost:8080/",
          "height": 295
        }
      },
      "source": [
        "plt.scatter(df1['Precipitation'],df1['Production'],color='red')\n",
        "plt.title(\"Precipitation Vs Production\")\n",
        "plt.xlabel(\"Precipitation\")\n",
        "plt.ylabel(\"Production\")\n",
        "plt.grid()\n",
        "plt.show()"
      ],
      "execution_count": 94,
      "outputs": [
        {
          "output_type": "display_data",
          "data": {
            "image/png": "[encoded data removed]",
            "text/plain": [
              "<Figure size 432x288 with 1 Axes>"
            ]
          },
          "metadata": {
            "tags": []
          }
        }
      ]
    },
    {
      "cell_type": "code",
      "metadata": {
        "id": "Vm1j6iN73RzI",
        "colab_type": "code",
        "outputId": "062d7a0d-b4d7-4e0e-bfbd-cd0f6d56a8dc",
        "colab": {
          "base_uri": "https://localhost:8080/",
          "height": 295
        }
      },
      "source": [
        "plt.scatter(df1['Min_Temp'],df1['Production'],color='green')\n",
        "plt.title(\"Minimum Temperature Vs Production\")\n",
        "plt.xlabel(\"Minimum Temperature\")\n",
        "plt.ylabel(\"Production\")\n",
        "plt.grid()\n",
        "plt.show()"
      ],
      "execution_count": 95,
      "outputs": [
        {
          "output_type": "display_data",
          "data": {
            "image/png": "[encoded data removed]",
            "text/plain": [
              "<Figure size 432x288 with 1 Axes>"
            ]
          },
          "metadata": {
            "tags": []
          }
        }
      ]
    },
    {
      "cell_type": "code",
      "metadata": {
        "id": "Z2hKG1o_3ShJ",
        "colab_type": "code",
        "outputId": "ba1010d4-2a30-4fd7-e1d7-dbc63f9e98db",
        "colab": {
          "base_uri": "https://localhost:8080/",
          "height": 295
        }
      },
      "source": [
        "plt.scatter(df1['Cloud_Cover'],df1['Production'],color=\"purple\")\n",
        "plt.title(\"Cloud cover Vs Production\")\n",
        "plt.xlabel(\"Cloud Cover\")\n",
        "plt.ylabel(\"Production\")\n",
        "plt.grid()\n",
        "plt.show()"
      ],
      "execution_count": 96,
      "outputs": [
        {
          "output_type": "display_data",
          "data": {
            "image/png": "[encoded data removed]",
            "text/plain": [
              "<Figure size 432x288 with 1 Axes>"
            ]
          },
          "metadata": {
            "tags": []
          }
        }
      ]
    },
    {
      "cell_type": "code",
      "metadata": {
        "id": "12x1MZLD3S_e",
        "colab_type": "code",
        "outputId": "da9020d7-22ee-4b17-f442-3e5d5b7d63f8",
        "colab": {
          "base_uri": "https://localhost:8080/",
          "height": 295
        }
      },
      "source": [
        "plt.scatter(df1['Vapour_pressure'],df1['Production'],color='blue')\n",
        "plt.title(\"Vapour pressure  Vs Production\")\n",
        "plt.xlabel(\"Vapour Pressure\")\n",
        "plt.ylabel(\"Production\")\n",
        "plt.grid()\n",
        "plt.show()"
      ],
      "execution_count": 97,
      "outputs": [
        {
          "output_type": "display_data",
          "data": {
            "image/png": "[encoded data removed]",
            "text/plain": [
              "<Figure size 432x288 with 1 Axes>"
            ]
          },
          "metadata": {
            "tags": []
          }
        }
      ]
    },
    {
      "cell_type": "code",
      "metadata": {
        "id": "_2S0_JPZ3TcE",
        "colab_type": "code",
        "outputId": "acdbfab4-b080-46a4-af1a-b4effeb0de76",
        "colab": {
          "base_uri": "https://localhost:8080/",
          "height": 295
        }
      },
      "source": [
        "plt.scatter(df1['Area'],df1['Production'],color='orange')\n",
        "plt.title(\"Area Vs Production\")\n",
        "plt.xlabel(\"Area\")\n",
        "plt.ylabel(\"Production\")\n",
        "plt.grid()\n",
        "plt.show()"
      ],
      "execution_count": 98,
      "outputs": [
        {
          "output_type": "display_data",
          "data": {
            "image/png": "[encoded data removed]",
            "text/plain": [
              "<Figure size 432x288 with 1 Axes>"
            ]
          },
          "metadata": {
            "tags": []
          }
        }
      ]
    },
    {
      "cell_type": "markdown",
      "metadata": {
        "id": "ApRhkcKYXfpF",
        "colab_type": "text"
      },
      "source": [
        "## Regression :"
      ]
    },
    {
      "cell_type": "code",
      "metadata": {
        "id": "gburM95LX6Ne",
        "colab_type": "code",
        "colab": {}
      },
      "source": [
        "\n",
        "from sklearn import linear_model\n",
        "from sklearn.model_selection import train_test_split\n",
        "from sklearn.metrics import r2_score"
      ],
      "execution_count": 0,
      "outputs": []
    },
    {
      "cell_type": "code",
      "metadata": {
        "id": "Yt9GLpINXkZh",
        "colab_type": "code",
        "outputId": "52434f9b-d3bd-468c-9b7c-394e0de851c1",
        "colab": {
          "base_uri": "https://localhost:8080/",
          "height": 168
        }
      },
      "source": [
        "\n",
        "X = df1[['Precipitation'\t,'Min_Temp'\t,'Cloud_Cover'\t,'Vapour_pressure'\t,'Area']] \n",
        "Y = df1['Production']\n",
        " \n",
        "x_train,x_test,y_train,y_test=train_test_split(X,Y, test_size=0.2, random_state=1)\n",
        "reg=linear_model.LinearRegression()\n",
        "reg.fit(x_train,y_train)\n",
        "  \n",
        "\n",
        "\n",
        "\n",
        "# prediction\n",
        "y_pred=reg.predict(x_test)\n",
        "print('Predicted Production:',y_pred,'\\n')\n",
        "\n",
        "# Coefficients\n",
        "print('\\nCoefficients: ', reg.coef_,'\\n')\n",
        "\n",
        "# R-squared score\n",
        "print('\\nR-squared score: ', r2_score(y_test,y_pred),'\\n')"
      ],
      "execution_count": 100,
      "outputs": [
        {
          "output_type": "stream",
          "text": [
            "Predicted Production: [17411.62930858 19930.96623757 14399.347497  ] \n",
            "\n",
            "\n",
            "Coefficients:  [ 7.45267074e+00  5.22418245e+03 -7.59047872e+01 -4.37591509e+03\n",
            "  2.88812688e+00] \n",
            "\n",
            "\n",
            "R-squared score:  -6.72837744677466 \n",
            "\n"
          ],
          "name": "stdout"
        }
      ]
    },
    {
      "cell_type": "markdown",
      "metadata": {
        "id": "cFo82NlxhUjY",
        "colab_type": "text"
      },
      "source": [
        "### Regression (Predicting Production for each year without taking that year as training data) :"
      ]
    },
    {
      "cell_type": "code",
      "metadata": {
        "id": "XEHCf_3cmsLn",
        "colab_type": "code",
        "colab": {
          "base_uri": "https://localhost:8080/",
          "height": 454
        },
        "outputId": "9d554788-eff8-439a-a6c0-3f1565244553"
      },
      "source": [
        "error=[]\n",
        "year=1990\n",
        "for i in range(0,13):\n",
        "  \n",
        "  X = df1[['Precipitation'\t,'Min_Temp'\t,'Cloud_Cover'\t,'Vapour_pressure'\t,'Area']] .drop(0)\n",
        "  Y = df1['Production'].drop(i)\n",
        "\n",
        "  x_train,x_test,y_train,y_test=train_test_split(X,Y, test_size=0.2, random_state=1)\n",
        "  reg=linear_model.LinearRegression()\n",
        "  reg.fit(x_train,y_train)\n",
        "\n",
        "  y_pred=reg.predict([df1.loc[i,'Precipitation':'Area']])\n",
        "  print('~ Year:',year,'-\\n','Predicted Production:',y_pred,', ','Actual Production:',[df1.loc[i,'Production']],', ','Error: ',y_pred-df1.loc[i,'Production'])\n",
        "  error.append(float(y_pred-df1.loc[i,'Production']))\n",
        "  year+=1"
      ],
      "execution_count": 101,
      "outputs": [
        {
          "output_type": "stream",
          "text": [
            "~ Year: 1990 -\n",
            " Predicted Production: [19826.27035642] ,  Actual Production: [16072] ,  Error:  [3754.27035642]\n",
            "~ Year: 1991 -\n",
            " Predicted Production: [18354.3978197] ,  Actual Production: [20353] ,  Error:  [-1998.6021803]\n",
            "~ Year: 1992 -\n",
            " Predicted Production: [18651.4788267] ,  Actual Production: [20847] ,  Error:  [-2195.5211733]\n",
            "~ Year: 1993 -\n",
            " Predicted Production: [20331.51348138] ,  Actual Production: [18124] ,  Error:  [2207.51348138]\n",
            "~ Year: 1994 -\n",
            " Predicted Production: [19143.37294242] ,  Actual Production: [22822] ,  Error:  [-3678.62705758]\n",
            "~ Year: 1995 -\n",
            " Predicted Production: [18501.97718374] ,  Actual Production: [15432] ,  Error:  [3069.97718374]\n",
            "~ Year: 1996 -\n",
            " Predicted Production: [17464.16215405] ,  Actual Production: [21371] ,  Error:  [-3906.83784595]\n",
            "~ Year: 1997 -\n",
            " Predicted Production: [21171.16526168] ,  Actual Production: [18076] ,  Error:  [3095.16526168]\n",
            "~ Year: 1998 -\n",
            " Predicted Production: [16911.42862506] ,  Actual Production: [19870] ,  Error:  [-2958.57137494]\n",
            "~ Year: 1999 -\n",
            " Predicted Production: [20046.76315973] ,  Actual Production: [17652] ,  Error:  [2394.76315973]\n",
            "~ Year: 2000 -\n",
            " Predicted Production: [17435.90478381] ,  Actual Production: [18562] ,  Error:  [-1126.09521619]\n",
            "~ Year: 2001 -\n",
            " Predicted Production: [19421.8465845] ,  Actual Production: [19087] ,  Error:  [334.8465845]\n",
            "~ Year: 2002 -\n",
            " Predicted Production: [19174.24138442] ,  Actual Production: [20981] ,  Error:  [-1806.75861558]\n"
          ],
          "name": "stdout"
        }
      ]
    },
    {
      "cell_type": "markdown",
      "metadata": {
        "id": "wU_pSzyno82-",
        "colab_type": "text"
      },
      "source": [
        "#### Error:"
      ]
    },
    {
      "cell_type": "code",
      "metadata": {
        "id": "VYnUr_XppBp3",
        "colab_type": "code",
        "colab": {
          "base_uri": "https://localhost:8080/",
          "height": 87
        },
        "outputId": "9a438dc9-2e7f-432a-a28c-240ccace9fc9"
      },
      "source": [
        "import math\n",
        "print(list(error))\n",
        "\n",
        "total_error=0\n",
        "for i in error:\n",
        "  total_error=total_error+(i*i)\n",
        "  \n",
        "mean_squared_error=math.sqrt(total_error)/13\n",
        "\n",
        "print(\"\\nMean Squared Error: \",mean_squared_error)"
      ],
      "execution_count": 102,
      "outputs": [
        {
          "output_type": "stream",
          "text": [
            "[3754.270356424109, -1998.6021803003314, -2195.5211732999305, 2207.5134813811164, -3678.6270575798626, 3069.9771837437474, -3906.83784595177, 3095.1652616826905, -2958.571374941912, 2394.763159733746, -1126.0952161877103, 334.8465844961065, -1806.7586155808822]\n",
            "\n",
            "Mean Squared Error:  748.6299004416321\n"
          ],
          "name": "stdout"
        }
      ]
    }
  ]
}
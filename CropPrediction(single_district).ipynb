{
  "nbformat": 4,
  "nbformat_minor": 0,
  "metadata": {
    "colab": {
      "name": "CropPrediction(single_district).ipynb",
      "version": "0.3.2",
      "provenance": [],
      "collapsed_sections": [],
      "include_colab_link": true
    },
    "kernelspec": {
      "name": "python3",
      "display_name": "Python 3"
    }
  },
  "cells": [
    {
      "cell_type": "markdown",
      "metadata": {
        "id": "view-in-github",
        "colab_type": "text"
      },
      "source": [
        "<a href=\"https://colab.research.google.com/github/arghac14/CropYield-prediction/blob/master/CropPrediction(single_district).ipynb\" target=\"_parent\"><img src=\"https://colab.research.google.com/assets/colab-badge.svg\" alt=\"Open In Colab\"/></a>"
      ]
    },
    {
      "cell_type": "code",
      "metadata": {
        "id": "HktbvYERJFjr",
        "colab_type": "code",
        "colab": {}
      },
      "source": [
        "import pandas as pd\n",
        "import numpy as np\n",
        "import matplotlib.pyplot as plt\n",
        "%matplotlib inline"
      ],
      "execution_count": 0,
      "outputs": []
    },
    {
      "cell_type": "markdown",
      "metadata": {
        "id": "NqbyvO-a05Bk",
        "colab_type": "text"
      },
      "source": [
        "### Creating Dataset(Bangalore District)"
      ]
    },
    {
      "cell_type": "code",
      "metadata": {
        "id": "OCPeVLHuJLg8",
        "colab_type": "code",
        "colab": {
          "base_uri": "https://localhost:8080/",
          "height": 402
        },
        "outputId": "792050b0-a9c1-4383-e497-5911484f72dc"
      },
      "source": [
        "Bangalore_data={\n",
        "    'Year':[1990,1991,1992,1993,1994,1995,1996,1997,1998,1999,2000,2001,2002],\n",
        "    'Precipitation':[698.485,996.754,819.437,933.128,602.847,941.275,1081.408,1091.201,1218.563,922.834,1000.767,731.834,748.194],\n",
        "    'Min_Temp':[24.706,24.771,24.561,24.987,24.642,24.901,24.862,25.139,25.434,24.79,24.759,25.148,25.263],\n",
        "    'Cloud_Cover':[48.424,48.394,48.394,48.394,48.394,48.394,50.766,80.049,50.213,48.408,49.684,52.792,49.134],\n",
        "    'Vapour_pressure':[21.208,21.37,21.085,21.193,21.191,21.488,21.311,21.435,21.766,21.108,21.265,21.484,21.56],\n",
        "    'Area':[18057,18070,18079,18051,17609,18050,17802,18042,17650,18123,17890,18090,18790],\n",
        "    'Production':[16072,20353,20847,18124,22822,15432,21371,18076,19870,17652,18562,19087,20981]\n",
        "}\n",
        "df1=pd.DataFrame(Bangalore_data)\n",
        "df1=df1.drop(7).reset_index()\n",
        "df1"
      ],
      "execution_count": 80,
      "outputs": [
        {
          "output_type": "execute_result",
          "data": {
            "text/html": [
              "<div>\n",
              "<style scoped>\n",
              "    .dataframe tbody tr th:only-of-type {\n",
              "        vertical-align: middle;\n",
              "    }\n",
              "\n",
              "    .dataframe tbody tr th {\n",
              "        vertical-align: top;\n",
              "    }\n",
              "\n",
              "    .dataframe thead th {\n",
              "        text-align: right;\n",
              "    }\n",
              "</style>\n",
              "<table border=\"1\" class=\"dataframe\">\n",
              "  <thead>\n",
              "    <tr style=\"text-align: right;\">\n",
              "      <th></th>\n",
              "      <th>index</th>\n",
              "      <th>Year</th>\n",
              "      <th>Precipitation</th>\n",
              "      <th>Min_Temp</th>\n",
              "      <th>Cloud_Cover</th>\n",
              "      <th>Vapour_pressure</th>\n",
              "      <th>Area</th>\n",
              "      <th>Production</th>\n",
              "    </tr>\n",
              "  </thead>\n",
              "  <tbody>\n",
              "    <tr>\n",
              "      <th>0</th>\n",
              "      <td>0</td>\n",
              "      <td>1990</td>\n",
              "      <td>698.485</td>\n",
              "      <td>24.706</td>\n",
              "      <td>48.424</td>\n",
              "      <td>21.208</td>\n",
              "      <td>18057</td>\n",
              "      <td>16072</td>\n",
              "    </tr>\n",
              "    <tr>\n",
              "      <th>1</th>\n",
              "      <td>1</td>\n",
              "      <td>1991</td>\n",
              "      <td>996.754</td>\n",
              "      <td>24.771</td>\n",
              "      <td>48.394</td>\n",
              "      <td>21.370</td>\n",
              "      <td>18070</td>\n",
              "      <td>20353</td>\n",
              "    </tr>\n",
              "    <tr>\n",
              "      <th>2</th>\n",
              "      <td>2</td>\n",
              "      <td>1992</td>\n",
              "      <td>819.437</td>\n",
              "      <td>24.561</td>\n",
              "      <td>48.394</td>\n",
              "      <td>21.085</td>\n",
              "      <td>18079</td>\n",
              "      <td>20847</td>\n",
              "    </tr>\n",
              "    <tr>\n",
              "      <th>3</th>\n",
              "      <td>3</td>\n",
              "      <td>1993</td>\n",
              "      <td>933.128</td>\n",
              "      <td>24.987</td>\n",
              "      <td>48.394</td>\n",
              "      <td>21.193</td>\n",
              "      <td>18051</td>\n",
              "      <td>18124</td>\n",
              "    </tr>\n",
              "    <tr>\n",
              "      <th>4</th>\n",
              "      <td>4</td>\n",
              "      <td>1994</td>\n",
              "      <td>602.847</td>\n",
              "      <td>24.642</td>\n",
              "      <td>48.394</td>\n",
              "      <td>21.191</td>\n",
              "      <td>17609</td>\n",
              "      <td>22822</td>\n",
              "    </tr>\n",
              "    <tr>\n",
              "      <th>5</th>\n",
              "      <td>5</td>\n",
              "      <td>1995</td>\n",
              "      <td>941.275</td>\n",
              "      <td>24.901</td>\n",
              "      <td>48.394</td>\n",
              "      <td>21.488</td>\n",
              "      <td>18050</td>\n",
              "      <td>15432</td>\n",
              "    </tr>\n",
              "    <tr>\n",
              "      <th>6</th>\n",
              "      <td>6</td>\n",
              "      <td>1996</td>\n",
              "      <td>1081.408</td>\n",
              "      <td>24.862</td>\n",
              "      <td>50.766</td>\n",
              "      <td>21.311</td>\n",
              "      <td>17802</td>\n",
              "      <td>21371</td>\n",
              "    </tr>\n",
              "    <tr>\n",
              "      <th>7</th>\n",
              "      <td>8</td>\n",
              "      <td>1998</td>\n",
              "      <td>1218.563</td>\n",
              "      <td>25.434</td>\n",
              "      <td>50.213</td>\n",
              "      <td>21.766</td>\n",
              "      <td>17650</td>\n",
              "      <td>19870</td>\n",
              "    </tr>\n",
              "    <tr>\n",
              "      <th>8</th>\n",
              "      <td>9</td>\n",
              "      <td>1999</td>\n",
              "      <td>922.834</td>\n",
              "      <td>24.790</td>\n",
              "      <td>48.408</td>\n",
              "      <td>21.108</td>\n",
              "      <td>18123</td>\n",
              "      <td>17652</td>\n",
              "    </tr>\n",
              "    <tr>\n",
              "      <th>9</th>\n",
              "      <td>10</td>\n",
              "      <td>2000</td>\n",
              "      <td>1000.767</td>\n",
              "      <td>24.759</td>\n",
              "      <td>49.684</td>\n",
              "      <td>21.265</td>\n",
              "      <td>17890</td>\n",
              "      <td>18562</td>\n",
              "    </tr>\n",
              "    <tr>\n",
              "      <th>10</th>\n",
              "      <td>11</td>\n",
              "      <td>2001</td>\n",
              "      <td>731.834</td>\n",
              "      <td>25.148</td>\n",
              "      <td>52.792</td>\n",
              "      <td>21.484</td>\n",
              "      <td>18090</td>\n",
              "      <td>19087</td>\n",
              "    </tr>\n",
              "    <tr>\n",
              "      <th>11</th>\n",
              "      <td>12</td>\n",
              "      <td>2002</td>\n",
              "      <td>748.194</td>\n",
              "      <td>25.263</td>\n",
              "      <td>49.134</td>\n",
              "      <td>21.560</td>\n",
              "      <td>18790</td>\n",
              "      <td>20981</td>\n",
              "    </tr>\n",
              "  </tbody>\n",
              "</table>\n",
              "</div>"
            ],
            "text/plain": [
              "    index  Year  Precipitation  ...  Vapour_pressure   Area  Production\n",
              "0       0  1990        698.485  ...           21.208  18057       16072\n",
              "1       1  1991        996.754  ...           21.370  18070       20353\n",
              "2       2  1992        819.437  ...           21.085  18079       20847\n",
              "3       3  1993        933.128  ...           21.193  18051       18124\n",
              "4       4  1994        602.847  ...           21.191  17609       22822\n",
              "5       5  1995        941.275  ...           21.488  18050       15432\n",
              "6       6  1996       1081.408  ...           21.311  17802       21371\n",
              "7       8  1998       1218.563  ...           21.766  17650       19870\n",
              "8       9  1999        922.834  ...           21.108  18123       17652\n",
              "9      10  2000       1000.767  ...           21.265  17890       18562\n",
              "10     11  2001        731.834  ...           21.484  18090       19087\n",
              "11     12  2002        748.194  ...           21.560  18790       20981\n",
              "\n",
              "[12 rows x 8 columns]"
            ]
          },
          "metadata": {
            "tags": []
          },
          "execution_count": 80
        }
      ]
    },
    {
      "cell_type": "markdown",
      "metadata": {
        "id": "XjC56lWQ0-01",
        "colab_type": "text"
      },
      "source": [
        "### Showing correlation between dependent and independent variables"
      ]
    },
    {
      "cell_type": "code",
      "metadata": {
        "id": "f_iRYyJj1UdF",
        "colab_type": "code",
        "outputId": "73bc7838-c6fd-4837-ac55-314f574364ab",
        "colab": {
          "base_uri": "https://localhost:8080/",
          "height": 295
        }
      },
      "source": [
        "plt.scatter(df1['Precipitation'],df1['Production'],color='red')\n",
        "plt.title(\"Precipitation Vs Production\")\n",
        "plt.xlabel(\"Precipitation\")\n",
        "plt.ylabel(\"Production\")\n",
        "plt.grid()\n",
        "plt.show()"
      ],
      "execution_count": 81,
      "outputs": [
        {
          "output_type": "display_data",
          "data": {
            "image/png": "[encoded data removed]",
            "text/plain": [
              "<Figure size 432x288 with 1 Axes>"
            ]
          },
          "metadata": {
            "tags": []
          }
        }
      ]
    },
    {
      "cell_type": "code",
      "metadata": {
        "id": "Vm1j6iN73RzI",
        "colab_type": "code",
        "outputId": "1e0dfab4-124f-405e-ec65-427ac988cddf",
        "colab": {
          "base_uri": "https://localhost:8080/",
          "height": 295
        }
      },
      "source": [
        "plt.scatter(df1['Min_Temp'],df1['Production'],color='green')\n",
        "plt.title(\"Minimum Temperature Vs Production\")\n",
        "plt.xlabel(\"Minimum Temperature\")\n",
        "plt.ylabel(\"Production\")\n",
        "plt.grid()\n",
        "plt.show()"
      ],
      "execution_count": 82,
      "outputs": [
        {
          "output_type": "display_data",
          "data": {
            "image/png": "[encoded data removed]",
            "text/plain": [
              "<Figure size 432x288 with 1 Axes>"
            ]
          },
          "metadata": {
            "tags": []
          }
        }
      ]
    },
    {
      "cell_type": "code",
      "metadata": {
        "id": "Z2hKG1o_3ShJ",
        "colab_type": "code",
        "outputId": "48362316-8a70-47b9-fbf6-17e16dc9482b",
        "colab": {
          "base_uri": "https://localhost:8080/",
          "height": 295
        }
      },
      "source": [
        "plt.scatter(df1['Cloud_Cover'],df1['Production'],color=\"purple\")\n",
        "plt.title(\"Cloud cover Vs Production\")\n",
        "plt.xlabel(\"Cloud Cover\")\n",
        "plt.ylabel(\"Production\")\n",
        "plt.grid()\n",
        "plt.show()"
      ],
      "execution_count": 83,
      "outputs": [
        {
          "output_type": "display_data",
          "data": {
            "image/png": "[encoded data removed]",
            "text/plain": [
              "<Figure size 432x288 with 1 Axes>"
            ]
          },
          "metadata": {
            "tags": []
          }
        }
      ]
    },
    {
      "cell_type": "code",
      "metadata": {
        "id": "12x1MZLD3S_e",
        "colab_type": "code",
        "outputId": "cffac7b9-39d3-4c3f-d11d-ec8768f1645c",
        "colab": {
          "base_uri": "https://localhost:8080/",
          "height": 295
        }
      },
      "source": [
        "plt.scatter(df1['Vapour_pressure'],df1['Production'],color='blue')\n",
        "plt.title(\"Vapour pressure  Vs Production\")\n",
        "plt.xlabel(\"Vapour Pressure\")\n",
        "plt.ylabel(\"Production\")\n",
        "plt.grid()\n",
        "plt.show()"
      ],
      "execution_count": 84,
      "outputs": [
        {
          "output_type": "display_data",
          "data": {
            "image/png": "[encoded data removed]",
            "text/plain": [
              "<Figure size 432x288 with 1 Axes>"
            ]
          },
          "metadata": {
            "tags": []
          }
        }
      ]
    },
    {
      "cell_type": "code",
      "metadata": {
        "id": "_2S0_JPZ3TcE",
        "colab_type": "code",
        "outputId": "676e3113-d41f-49f4-dd97-5e561c3769dd",
        "colab": {
          "base_uri": "https://localhost:8080/",
          "height": 295
        }
      },
      "source": [
        "plt.scatter(df1['Area'],df1['Production'],color='orange')\n",
        "plt.title(\"Area Vs Production\")\n",
        "plt.xlabel(\"Area\")\n",
        "plt.ylabel(\"Production\")\n",
        "plt.grid()\n",
        "plt.show()"
      ],
      "execution_count": 85,
      "outputs": [
        {
          "output_type": "display_data",
          "data": {
            "image/png": "[encoded data removed]",
            "text/plain": [
              "<Figure size 432x288 with 1 Axes>"
            ]
          },
          "metadata": {
            "tags": []
          }
        }
      ]
    },
    {
      "cell_type": "markdown",
      "metadata": {
        "id": "ApRhkcKYXfpF",
        "colab_type": "text"
      },
      "source": [
        "## Regression :"
      ]
    },
    {
      "cell_type": "code",
      "metadata": {
        "id": "gburM95LX6Ne",
        "colab_type": "code",
        "colab": {}
      },
      "source": [
        "\n",
        "from sklearn import linear_model\n",
        "from sklearn.model_selection import train_test_split\n",
        "from sklearn.metrics import r2_score"
      ],
      "execution_count": 0,
      "outputs": []
    },
    {
      "cell_type": "code",
      "metadata": {
        "id": "Yt9GLpINXkZh",
        "colab_type": "code",
        "outputId": "f71560b2-7ba1-4779-92a7-df0ddfdf88ec",
        "colab": {
          "base_uri": "https://localhost:8080/",
          "height": 168
        }
      },
      "source": [
        "\n",
        "X = df1[['Precipitation'\t,'Min_Temp'\t,'Cloud_Cover'\t,'Vapour_pressure'\t,'Area']] \n",
        "Y = df1['Production']\n",
        " \n",
        "x_train,x_test,y_train,y_test=train_test_split(X,Y, test_size=0.2, random_state=1)\n",
        "reg=linear_model.LinearRegression()\n",
        "reg.fit(x_train,y_train)\n",
        "  \n",
        "\n",
        "\n",
        "\n",
        "# prediction\n",
        "y_pred=reg.predict(x_test)\n",
        "print('Predicted Production:',y_pred,'\\n')\n",
        "\n",
        "# Coefficients\n",
        "print('\\nCoefficients: ', reg.coef_,'\\n')\n",
        "\n",
        "# R-squared score\n",
        "print('\\nR-squared score: ', r2_score(y_test,y_pred),'\\n')"
      ],
      "execution_count": 87,
      "outputs": [
        {
          "output_type": "stream",
          "text": [
            "Predicted Production: [17106.7510439  17716.54241586 10252.45389812] \n",
            "\n",
            "\n",
            "Coefficients:  [   14.21399777 -1573.19538251  1127.23739376 -1167.21079672\n",
            "     7.49900893] \n",
            "\n",
            "\n",
            "R-squared score:  -14.46870807799485 \n",
            "\n"
          ],
          "name": "stdout"
        }
      ]
    },
    {
      "cell_type": "markdown",
      "metadata": {
        "id": "cFo82NlxhUjY",
        "colab_type": "text"
      },
      "source": [
        "### Regression (Predicting Production for each year without taking that year as training data) :"
      ]
    },
    {
      "cell_type": "code",
      "metadata": {
        "id": "XEHCf_3cmsLn",
        "colab_type": "code",
        "outputId": "669c8b66-dcfc-46fe-b45a-ed042837100f",
        "colab": {
          "base_uri": "https://localhost:8080/",
          "height": 420
        }
      },
      "source": [
        "error=[]\n",
        "year=1990\n",
        "for i in range(0,12):\n",
        "  \n",
        "  X = df1[['Precipitation'\t,'Min_Temp'\t,'Cloud_Cover'\t,'Vapour_pressure'\t,'Area']] .drop(i)\n",
        "  Y = df1['Production'].drop(i)\n",
        "\n",
        "  x_train,x_test,y_train,y_test=train_test_split(X,Y, test_size=0.2, random_state=1)\n",
        "  reg=linear_model.LinearRegression()\n",
        "  reg.fit(x_train,y_train)\n",
        "\n",
        "  y_pred=reg.predict([df1.loc[i,'Precipitation':'Area']])\n",
        "  print('~ Year:',year,'-\\n','Predicted Production:',y_pred,', ','Actual Production:',[df1.loc[i,'Production']],', ','Error: ',y_pred-df1.loc[i,'Production'])\n",
        "  error.append(float(y_pred-df1.loc[i,'Production']))\n",
        "  year+=1"
      ],
      "execution_count": 88,
      "outputs": [
        {
          "output_type": "stream",
          "text": [
            "~ Year: 1990 -\n",
            " Predicted Production: [18714.27954339] ,  Actual Production: [16072] ,  Error:  [2642.27954339]\n",
            "~ Year: 1991 -\n",
            " Predicted Production: [21702.40152038] ,  Actual Production: [20353] ,  Error:  [1349.40152038]\n",
            "~ Year: 1992 -\n",
            " Predicted Production: [17545.3232153] ,  Actual Production: [20847] ,  Error:  [-3301.6767847]\n",
            "~ Year: 1993 -\n",
            " Predicted Production: [16592.48236284] ,  Actual Production: [18124] ,  Error:  [-1531.51763716]\n",
            "~ Year: 1994 -\n",
            " Predicted Production: [11642.61488946] ,  Actual Production: [22822] ,  Error:  [-11179.38511054]\n",
            "~ Year: 1995 -\n",
            " Predicted Production: [19377.79578057] ,  Actual Production: [15432] ,  Error:  [3945.79578057]\n",
            "~ Year: 1996 -\n",
            " Predicted Production: [20013.1406994] ,  Actual Production: [21371] ,  Error:  [-1357.8593006]\n",
            "~ Year: 1997 -\n",
            " Predicted Production: [4734.21994571] ,  Actual Production: [19870] ,  Error:  [-15135.78005429]\n",
            "~ Year: 1998 -\n",
            " Predicted Production: [21828.21258611] ,  Actual Production: [17652] ,  Error:  [4176.21258611]\n",
            "~ Year: 1999 -\n",
            " Predicted Production: [19445.68275057] ,  Actual Production: [18562] ,  Error:  [883.68275057]\n",
            "~ Year: 2000 -\n",
            " Predicted Production: [22151.31870681] ,  Actual Production: [19087] ,  Error:  [3064.31870681]\n",
            "~ Year: 2001 -\n",
            " Predicted Production: [16471.49009775] ,  Actual Production: [20981] ,  Error:  [-4509.50990225]\n"
          ],
          "name": "stdout"
        }
      ]
    },
    {
      "cell_type": "markdown",
      "metadata": {
        "id": "wU_pSzyno82-",
        "colab_type": "text"
      },
      "source": [
        "#### Error:"
      ]
    },
    {
      "cell_type": "code",
      "metadata": {
        "id": "VYnUr_XppBp3",
        "colab_type": "code",
        "outputId": "501e91ca-4307-40ac-f83b-efcd77fb6450",
        "colab": {
          "base_uri": "https://localhost:8080/",
          "height": 87
        }
      },
      "source": [
        "import math\n",
        "print(list(error))\n",
        "\n",
        "total_error=0\n",
        "for i in error:\n",
        "  total_error=total_error+(i*i)\n",
        "  \n",
        "mean_squared_error=math.sqrt(total_error)/13\n",
        "\n",
        "print(\"\\nMean Squared Error: \",mean_squared_error)"
      ],
      "execution_count": 89,
      "outputs": [
        {
          "output_type": "stream",
          "text": [
            "[2642.2795433902647, 1349.4015203840972, -3301.676784695592, -1531.5176371566777, -11179.385110542527, 3945.7957805672195, -1357.8593005988223, -15135.78005429398, 4176.212586108479, 883.6827505683759, 3064.3187068111147, -4509.509902252474]\n",
            "\n",
            "Mean Squared Error:  1616.2636664982322\n"
          ],
          "name": "stdout"
        }
      ]
    }
  ]
}
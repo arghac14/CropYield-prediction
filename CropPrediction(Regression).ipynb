{
  "nbformat": 4,
  "nbformat_minor": 0,
  "metadata": {
    "colab": {
      "name": "CropPrediction(Regression).ipynb",
      "version": "0.3.2",
      "provenance": [],
      "collapsed_sections": [],
      "include_colab_link": true
    },
    "kernelspec": {
      "name": "python3",
      "display_name": "Python 3"
    }
  },
  "cells": [
    {
      "cell_type": "markdown",
      "metadata": {
        "id": "view-in-github",
        "colab_type": "text"
      },
      "source": [
        "<a href=\"https://colab.research.google.com/github/arghac14/CropYield-prediction/blob/master/CropPrediction(Regression).ipynb\" target=\"_parent\"><img src=\"https://colab.research.google.com/assets/colab-badge.svg\" alt=\"Open In Colab\"/></a>"
      ]
    },
    {
      "cell_type": "code",
      "metadata": {
        "id": "6-muHbPWRFvq",
        "colab_type": "code",
        "colab": {}
      },
      "source": [
        "import pandas as pd\n",
        "import numpy as np\n",
        "import matplotlib.pyplot as plt\n",
        "%matplotlib inline"
      ],
      "execution_count": 0,
      "outputs": []
    },
    {
      "cell_type": "code",
      "metadata": {
        "id": "OnoZ-JkYUhjD",
        "colab_type": "code",
        "colab": {
          "base_uri": "https://localhost:8080/",
          "height": 580
        },
        "outputId": "c65c3800-318c-4517-bf72-a26f57daf270"
      },
      "source": [
        "# df=pd.read_csv(\"https://github.com/arghac14/CropYield-prediction/blob/master/dataset.csv\")\n",
        "# df\n",
        "data={\n",
        "    'Dist':['Bidar','Bangalore','Belgaum','Bellary','Kolar','Dharwad','Koppal','Chikmagalur','Chitradurga','Haveri','Chamrajanagar','Mandya','Mysore','Raichur','Kodaku','Hassan','Devanagare','Gulbarga'],\n",
        "    'Precipitation':[622.438,748.194,1334.194, 574.325,724.545,1623.548,724.545,1923.742,674.17,1473.343,1334.754,1477.249,2242.378,450.113,1691.933,2200.349,1060.343, 525.402],\n",
        "    'Min_Temp':[27.643,25.263,21.254,26.407,25.464,26.148,47.029,26.459,25.214,25.817,25.089,24.567,25.76766667,27.42241667,25.426,25.348,25.509,27.851],\n",
        "    'Cloud_Cover':[35.241,49.134,39.728,38.466,47.029,38.267,41.039,44.842,41.364,41.292,50.77,49.54775,50.57941667,35.76258333,46.353,47.12,40.929,35.109],\n",
        "    'Vapour_pressure':[17.953,21.56, 22.5509,20.008,20.63,23.652,19.992,24.717,20.82,23.168,23.079,22.234,24.64266667,18.93741667,23.975,24.008,22.042,18.662],\n",
        "    'Area':[4709,18790,4398,3768,2278,8395,3084,1650,3026,10659,3485,11349,3462,4586,17856,10487,2459,10487],\n",
        "    'Production':[9043,20981,6054,5903,2759,10986,3952,2958,3325,9865, 4120,18957, 4539,6145,15362,7586,1865,7895]\n",
        "}      #Final dataset\n",
        "df=pd.DataFrame(data)\n",
        "df"
      ],
      "execution_count": 24,
      "outputs": [
        {
          "output_type": "execute_result",
          "data": {
            "text/html": [
              "<div>\n",
              "<style scoped>\n",
              "    .dataframe tbody tr th:only-of-type {\n",
              "        vertical-align: middle;\n",
              "    }\n",
              "\n",
              "    .dataframe tbody tr th {\n",
              "        vertical-align: top;\n",
              "    }\n",
              "\n",
              "    .dataframe thead th {\n",
              "        text-align: right;\n",
              "    }\n",
              "</style>\n",
              "<table border=\"1\" class=\"dataframe\">\n",
              "  <thead>\n",
              "    <tr style=\"text-align: right;\">\n",
              "      <th></th>\n",
              "      <th>Dist</th>\n",
              "      <th>Precipitation</th>\n",
              "      <th>Min_Temp</th>\n",
              "      <th>Cloud_Cover</th>\n",
              "      <th>Vapour_pressure</th>\n",
              "      <th>Area</th>\n",
              "      <th>Production</th>\n",
              "    </tr>\n",
              "  </thead>\n",
              "  <tbody>\n",
              "    <tr>\n",
              "      <th>0</th>\n",
              "      <td>Bidar</td>\n",
              "      <td>622.438</td>\n",
              "      <td>27.643000</td>\n",
              "      <td>35.241000</td>\n",
              "      <td>17.953000</td>\n",
              "      <td>4709</td>\n",
              "      <td>9043</td>\n",
              "    </tr>\n",
              "    <tr>\n",
              "      <th>1</th>\n",
              "      <td>Bangalore</td>\n",
              "      <td>748.194</td>\n",
              "      <td>25.263000</td>\n",
              "      <td>49.134000</td>\n",
              "      <td>21.560000</td>\n",
              "      <td>18790</td>\n",
              "      <td>20981</td>\n",
              "    </tr>\n",
              "    <tr>\n",
              "      <th>2</th>\n",
              "      <td>Belgaum</td>\n",
              "      <td>1334.194</td>\n",
              "      <td>21.254000</td>\n",
              "      <td>39.728000</td>\n",
              "      <td>22.550900</td>\n",
              "      <td>4398</td>\n",
              "      <td>6054</td>\n",
              "    </tr>\n",
              "    <tr>\n",
              "      <th>3</th>\n",
              "      <td>Bellary</td>\n",
              "      <td>574.325</td>\n",
              "      <td>26.407000</td>\n",
              "      <td>38.466000</td>\n",
              "      <td>20.008000</td>\n",
              "      <td>3768</td>\n",
              "      <td>5903</td>\n",
              "    </tr>\n",
              "    <tr>\n",
              "      <th>4</th>\n",
              "      <td>Kolar</td>\n",
              "      <td>724.545</td>\n",
              "      <td>25.464000</td>\n",
              "      <td>47.029000</td>\n",
              "      <td>20.630000</td>\n",
              "      <td>2278</td>\n",
              "      <td>2759</td>\n",
              "    </tr>\n",
              "    <tr>\n",
              "      <th>5</th>\n",
              "      <td>Dharwad</td>\n",
              "      <td>1623.548</td>\n",
              "      <td>26.148000</td>\n",
              "      <td>38.267000</td>\n",
              "      <td>23.652000</td>\n",
              "      <td>8395</td>\n",
              "      <td>10986</td>\n",
              "    </tr>\n",
              "    <tr>\n",
              "      <th>6</th>\n",
              "      <td>Koppal</td>\n",
              "      <td>724.545</td>\n",
              "      <td>47.029000</td>\n",
              "      <td>41.039000</td>\n",
              "      <td>19.992000</td>\n",
              "      <td>3084</td>\n",
              "      <td>3952</td>\n",
              "    </tr>\n",
              "    <tr>\n",
              "      <th>7</th>\n",
              "      <td>Chikmagalur</td>\n",
              "      <td>1923.742</td>\n",
              "      <td>26.459000</td>\n",
              "      <td>44.842000</td>\n",
              "      <td>24.717000</td>\n",
              "      <td>1650</td>\n",
              "      <td>2958</td>\n",
              "    </tr>\n",
              "    <tr>\n",
              "      <th>8</th>\n",
              "      <td>Chitradurga</td>\n",
              "      <td>674.170</td>\n",
              "      <td>25.214000</td>\n",
              "      <td>41.364000</td>\n",
              "      <td>20.820000</td>\n",
              "      <td>3026</td>\n",
              "      <td>3325</td>\n",
              "    </tr>\n",
              "    <tr>\n",
              "      <th>9</th>\n",
              "      <td>Haveri</td>\n",
              "      <td>1473.343</td>\n",
              "      <td>25.817000</td>\n",
              "      <td>41.292000</td>\n",
              "      <td>23.168000</td>\n",
              "      <td>10659</td>\n",
              "      <td>9865</td>\n",
              "    </tr>\n",
              "    <tr>\n",
              "      <th>10</th>\n",
              "      <td>Chamrajanagar</td>\n",
              "      <td>1334.754</td>\n",
              "      <td>25.089000</td>\n",
              "      <td>50.770000</td>\n",
              "      <td>23.079000</td>\n",
              "      <td>3485</td>\n",
              "      <td>4120</td>\n",
              "    </tr>\n",
              "    <tr>\n",
              "      <th>11</th>\n",
              "      <td>Mandya</td>\n",
              "      <td>1477.249</td>\n",
              "      <td>24.567000</td>\n",
              "      <td>49.547750</td>\n",
              "      <td>22.234000</td>\n",
              "      <td>11349</td>\n",
              "      <td>18957</td>\n",
              "    </tr>\n",
              "    <tr>\n",
              "      <th>12</th>\n",
              "      <td>Mysore</td>\n",
              "      <td>2242.378</td>\n",
              "      <td>25.767667</td>\n",
              "      <td>50.579417</td>\n",
              "      <td>24.642667</td>\n",
              "      <td>3462</td>\n",
              "      <td>4539</td>\n",
              "    </tr>\n",
              "    <tr>\n",
              "      <th>13</th>\n",
              "      <td>Raichur</td>\n",
              "      <td>450.113</td>\n",
              "      <td>27.422417</td>\n",
              "      <td>35.762583</td>\n",
              "      <td>18.937417</td>\n",
              "      <td>4586</td>\n",
              "      <td>6145</td>\n",
              "    </tr>\n",
              "    <tr>\n",
              "      <th>14</th>\n",
              "      <td>Kodaku</td>\n",
              "      <td>1691.933</td>\n",
              "      <td>25.426000</td>\n",
              "      <td>46.353000</td>\n",
              "      <td>23.975000</td>\n",
              "      <td>17856</td>\n",
              "      <td>15362</td>\n",
              "    </tr>\n",
              "    <tr>\n",
              "      <th>15</th>\n",
              "      <td>Hassan</td>\n",
              "      <td>2200.349</td>\n",
              "      <td>25.348000</td>\n",
              "      <td>47.120000</td>\n",
              "      <td>24.008000</td>\n",
              "      <td>10487</td>\n",
              "      <td>7586</td>\n",
              "    </tr>\n",
              "    <tr>\n",
              "      <th>16</th>\n",
              "      <td>Devanagare</td>\n",
              "      <td>1060.343</td>\n",
              "      <td>25.509000</td>\n",
              "      <td>40.929000</td>\n",
              "      <td>22.042000</td>\n",
              "      <td>2459</td>\n",
              "      <td>1865</td>\n",
              "    </tr>\n",
              "    <tr>\n",
              "      <th>17</th>\n",
              "      <td>Gulbarga</td>\n",
              "      <td>525.402</td>\n",
              "      <td>27.851000</td>\n",
              "      <td>35.109000</td>\n",
              "      <td>18.662000</td>\n",
              "      <td>10487</td>\n",
              "      <td>7895</td>\n",
              "    </tr>\n",
              "  </tbody>\n",
              "</table>\n",
              "</div>"
            ],
            "text/plain": [
              "             Dist  Precipitation   Min_Temp  ...  Vapour_pressure   Area  Production\n",
              "0           Bidar        622.438  27.643000  ...        17.953000   4709        9043\n",
              "1       Bangalore        748.194  25.263000  ...        21.560000  18790       20981\n",
              "2         Belgaum       1334.194  21.254000  ...        22.550900   4398        6054\n",
              "3         Bellary        574.325  26.407000  ...        20.008000   3768        5903\n",
              "4           Kolar        724.545  25.464000  ...        20.630000   2278        2759\n",
              "5         Dharwad       1623.548  26.148000  ...        23.652000   8395       10986\n",
              "6          Koppal        724.545  47.029000  ...        19.992000   3084        3952\n",
              "7     Chikmagalur       1923.742  26.459000  ...        24.717000   1650        2958\n",
              "8     Chitradurga        674.170  25.214000  ...        20.820000   3026        3325\n",
              "9          Haveri       1473.343  25.817000  ...        23.168000  10659        9865\n",
              "10  Chamrajanagar       1334.754  25.089000  ...        23.079000   3485        4120\n",
              "11         Mandya       1477.249  24.567000  ...        22.234000  11349       18957\n",
              "12         Mysore       2242.378  25.767667  ...        24.642667   3462        4539\n",
              "13        Raichur        450.113  27.422417  ...        18.937417   4586        6145\n",
              "14         Kodaku       1691.933  25.426000  ...        23.975000  17856       15362\n",
              "15         Hassan       2200.349  25.348000  ...        24.008000  10487        7586\n",
              "16     Devanagare       1060.343  25.509000  ...        22.042000   2459        1865\n",
              "17       Gulbarga        525.402  27.851000  ...        18.662000  10487        7895\n",
              "\n",
              "[18 rows x 7 columns]"
            ]
          },
          "metadata": {
            "tags": []
          },
          "execution_count": 24
        }
      ]
    },
    {
      "cell_type": "markdown",
      "metadata": {
        "id": "mqwB-0vKx7GB",
        "colab_type": "text"
      },
      "source": [
        "## Linear Regression:"
      ]
    },
    {
      "cell_type": "code",
      "metadata": {
        "id": "pT-eZ3t0x91c",
        "colab_type": "code",
        "colab": {
          "base_uri": "https://localhost:8080/",
          "height": 168
        },
        "outputId": "264fdc28-25bb-45f1-fb8b-d0218be5154e"
      },
      "source": [
        "from sklearn import linear_model\n",
        "from sklearn.model_selection import train_test_split\n",
        "from sklearn.metrics import r2_score\n",
        "\n",
        "X = df[['Area']] \n",
        "Y = df['Production']\n",
        " \n",
        "x_train,x_test,y_train,y_test=train_test_split(X,Y, test_size=0.3, random_state=1)\n",
        "reg=linear_model.LinearRegression()\n",
        "reg.fit(x_train,y_train)\n",
        "  \n",
        "\n",
        "\n",
        "\n",
        "# prediction\n",
        "y_pred=reg.predict(x_test)\n",
        "print('Predicted Production:',y_pred,'\\n')\n",
        "\n",
        "# Coefficients\n",
        "print('\\nCoefficients: ', reg.coef_,'\\n')\n",
        "\n",
        "# R-squared score\n",
        "print('\\nR-squared score: ', r2_score(y_test,y_pred),'\\n')"
      ],
      "execution_count": 50,
      "outputs": [
        {
          "output_type": "stream",
          "text": [
            "Predicted Production: [ 3834.0464198   4561.42499993  5431.30172296  5231.37895532\n",
            " 19542.87154515  2309.10360706] \n",
            "\n",
            "\n",
            "Coefficients:  [1.06341898] \n",
            "\n",
            "\n",
            "R-squared score:  0.7865979189963656 \n",
            "\n"
          ],
          "name": "stdout"
        }
      ]
    },
    {
      "cell_type": "code",
      "metadata": {
        "id": "RAGyH5Ez0ixS",
        "colab_type": "code",
        "colab": {
          "base_uri": "https://localhost:8080/",
          "height": 283
        },
        "outputId": "8312f554-a1fd-46e0-fe07-945d3d0774e8"
      },
      "source": [
        "\n",
        "plt.scatter(x_test,y_test, color='blue')\n",
        "plt.plot(x_test,y_pred, color='green')\n",
        "plt.xlabel('Area')\n",
        "plt.ylabel('Production')\n",
        "\n",
        "plt.show()"
      ],
      "execution_count": 48,
      "outputs": [
        {
          "output_type": "display_data",
          "data": {
            "image/png": "[encoded data removed]",
            "text/plain": [
              "<Figure size 432x288 with 1 Axes>"
            ]
          },
          "metadata": {
            "tags": []
          }
        }
      ]
    },
    {
      "cell_type": "markdown",
      "metadata": {
        "id": "q3slSVLaUIpb",
        "colab_type": "text"
      },
      "source": [
        "## Multivariate Linear Regression:\n"
      ]
    },
    {
      "cell_type": "code",
      "metadata": {
        "id": "6ncyZbKgUWTx",
        "colab_type": "code",
        "colab": {
          "base_uri": "https://localhost:8080/",
          "height": 168
        },
        "outputId": "3ce7e34b-de00-48d6-db72-08912e25579e"
      },
      "source": [
        "from sklearn import linear_model\n",
        "from sklearn.model_selection import train_test_split\n",
        "from sklearn.metrics import r2_score\n",
        "\n",
        "X = df[['Precipitation'\t,'Min_Temp'\t,'Cloud_Cover'\t,'Vapour_pressure'\t,'Area']] \n",
        "Y = df['Production']\n",
        " \n",
        "x_train,x_test,y_train,y_test=train_test_split(X,Y, test_size=0.2, random_state=1)\n",
        "reg=linear_model.LinearRegression()\n",
        "reg.fit(x_train,y_train)\n",
        "  \n",
        "\n",
        "\n",
        "\n",
        "# prediction\n",
        "y_pred=reg.predict(x_test)\n",
        "print('Predicted Production:',y_pred,'\\n')\n",
        "\n",
        "# Coefficients\n",
        "print('\\nCoefficients: ', reg.coef_,'\\n')\n",
        "\n",
        "# R-squared score\n",
        "print('\\nR-squared score: ', r2_score(y_test,y_pred),'\\n')"
      ],
      "execution_count": 43,
      "outputs": [
        {
          "output_type": "stream",
          "text": [
            "Predicted Production: [-17654.76855091   4572.38847303   5020.76059205   9681.20127861] \n",
            "\n",
            "\n",
            "Coefficients:  [ 2.49292762e+00 -1.07420796e+03  6.84243914e+01 -1.18000389e+03\n",
            "  9.41906438e-01] \n",
            "\n",
            "\n",
            "R-squared score:  -146.22783288559427 \n",
            "\n"
          ],
          "name": "stdout"
        }
      ]
    }
  ]
}